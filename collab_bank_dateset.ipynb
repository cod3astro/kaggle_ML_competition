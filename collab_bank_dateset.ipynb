{
  "cells": [
    {
      "cell_type": "markdown",
      "metadata": {
        "id": "view-in-github",
        "colab_type": "text"
      },
      "source": [
        "<a href=\"https://colab.research.google.com/github/cod3astro/kaggle_ML_competition/blob/main/collab_bank_dateset.ipynb\" target=\"_parent\"><img src=\"https://colab.research.google.com/assets/colab-badge.svg\" alt=\"Open In Colab\"/></a>"
      ]
    },
    {
      "cell_type": "code",
      "execution_count": 1,
      "metadata": {
        "id": "9Ek9kw1-CKtr"
      },
      "outputs": [],
      "source": [
        "import pandas as pd\n",
        "import numpy as np\n",
        "import seaborn as sns\n",
        "import matplotlib.pyplot as plt\n",
        "import joblib"
      ]
    },
    {
      "cell_type": "code",
      "execution_count": 2,
      "metadata": {
        "colab": {
          "base_uri": "https://localhost:8080/",
          "height": 237
        },
        "id": "ycgwNiywERbQ",
        "outputId": "4929376f-4708-4b3d-8632-8ee6baeda6b9"
      },
      "outputs": [
        {
          "output_type": "execute_result",
          "data": {
            "text/plain": [
              "    age          job  marital  education default  balance housing loan  \\\n",
              "id                                                                       \n",
              "0    42   technician  married  secondary      no        7      no   no   \n",
              "1    38  blue-collar  married  secondary      no      514      no   no   \n",
              "2    36  blue-collar  married  secondary      no      602     yes   no   \n",
              "3    27      student   single  secondary      no       34     yes   no   \n",
              "4    26   technician  married  secondary      no      889     yes   no   \n",
              "\n",
              "     contact  day month  duration  campaign  pdays  previous poutcome  y  \n",
              "id                                                                        \n",
              "0   cellular   25   aug       117         3     -1         0  unknown  0  \n",
              "1    unknown   18   jun       185         1     -1         0  unknown  0  \n",
              "2    unknown   14   may       111         2     -1         0  unknown  0  \n",
              "3    unknown   28   may        10         2     -1         0  unknown  0  \n",
              "4   cellular    3   feb       902         1     -1         0  unknown  1  "
            ],
            "text/html": [
              "\n",
              "  <div id=\"df-6e6de8bd-767f-4c93-bc55-abb422ec5e3d\" class=\"colab-df-container\">\n",
              "    <div>\n",
              "<style scoped>\n",
              "    .dataframe tbody tr th:only-of-type {\n",
              "        vertical-align: middle;\n",
              "    }\n",
              "\n",
              "    .dataframe tbody tr th {\n",
              "        vertical-align: top;\n",
              "    }\n",
              "\n",
              "    .dataframe thead th {\n",
              "        text-align: right;\n",
              "    }\n",
              "</style>\n",
              "<table border=\"1\" class=\"dataframe\">\n",
              "  <thead>\n",
              "    <tr style=\"text-align: right;\">\n",
              "      <th></th>\n",
              "      <th>age</th>\n",
              "      <th>job</th>\n",
              "      <th>marital</th>\n",
              "      <th>education</th>\n",
              "      <th>default</th>\n",
              "      <th>balance</th>\n",
              "      <th>housing</th>\n",
              "      <th>loan</th>\n",
              "      <th>contact</th>\n",
              "      <th>day</th>\n",
              "      <th>month</th>\n",
              "      <th>duration</th>\n",
              "      <th>campaign</th>\n",
              "      <th>pdays</th>\n",
              "      <th>previous</th>\n",
              "      <th>poutcome</th>\n",
              "      <th>y</th>\n",
              "    </tr>\n",
              "    <tr>\n",
              "      <th>id</th>\n",
              "      <th></th>\n",
              "      <th></th>\n",
              "      <th></th>\n",
              "      <th></th>\n",
              "      <th></th>\n",
              "      <th></th>\n",
              "      <th></th>\n",
              "      <th></th>\n",
              "      <th></th>\n",
              "      <th></th>\n",
              "      <th></th>\n",
              "      <th></th>\n",
              "      <th></th>\n",
              "      <th></th>\n",
              "      <th></th>\n",
              "      <th></th>\n",
              "      <th></th>\n",
              "    </tr>\n",
              "  </thead>\n",
              "  <tbody>\n",
              "    <tr>\n",
              "      <th>0</th>\n",
              "      <td>42</td>\n",
              "      <td>technician</td>\n",
              "      <td>married</td>\n",
              "      <td>secondary</td>\n",
              "      <td>no</td>\n",
              "      <td>7</td>\n",
              "      <td>no</td>\n",
              "      <td>no</td>\n",
              "      <td>cellular</td>\n",
              "      <td>25</td>\n",
              "      <td>aug</td>\n",
              "      <td>117</td>\n",
              "      <td>3</td>\n",
              "      <td>-1</td>\n",
              "      <td>0</td>\n",
              "      <td>unknown</td>\n",
              "      <td>0</td>\n",
              "    </tr>\n",
              "    <tr>\n",
              "      <th>1</th>\n",
              "      <td>38</td>\n",
              "      <td>blue-collar</td>\n",
              "      <td>married</td>\n",
              "      <td>secondary</td>\n",
              "      <td>no</td>\n",
              "      <td>514</td>\n",
              "      <td>no</td>\n",
              "      <td>no</td>\n",
              "      <td>unknown</td>\n",
              "      <td>18</td>\n",
              "      <td>jun</td>\n",
              "      <td>185</td>\n",
              "      <td>1</td>\n",
              "      <td>-1</td>\n",
              "      <td>0</td>\n",
              "      <td>unknown</td>\n",
              "      <td>0</td>\n",
              "    </tr>\n",
              "    <tr>\n",
              "      <th>2</th>\n",
              "      <td>36</td>\n",
              "      <td>blue-collar</td>\n",
              "      <td>married</td>\n",
              "      <td>secondary</td>\n",
              "      <td>no</td>\n",
              "      <td>602</td>\n",
              "      <td>yes</td>\n",
              "      <td>no</td>\n",
              "      <td>unknown</td>\n",
              "      <td>14</td>\n",
              "      <td>may</td>\n",
              "      <td>111</td>\n",
              "      <td>2</td>\n",
              "      <td>-1</td>\n",
              "      <td>0</td>\n",
              "      <td>unknown</td>\n",
              "      <td>0</td>\n",
              "    </tr>\n",
              "    <tr>\n",
              "      <th>3</th>\n",
              "      <td>27</td>\n",
              "      <td>student</td>\n",
              "      <td>single</td>\n",
              "      <td>secondary</td>\n",
              "      <td>no</td>\n",
              "      <td>34</td>\n",
              "      <td>yes</td>\n",
              "      <td>no</td>\n",
              "      <td>unknown</td>\n",
              "      <td>28</td>\n",
              "      <td>may</td>\n",
              "      <td>10</td>\n",
              "      <td>2</td>\n",
              "      <td>-1</td>\n",
              "      <td>0</td>\n",
              "      <td>unknown</td>\n",
              "      <td>0</td>\n",
              "    </tr>\n",
              "    <tr>\n",
              "      <th>4</th>\n",
              "      <td>26</td>\n",
              "      <td>technician</td>\n",
              "      <td>married</td>\n",
              "      <td>secondary</td>\n",
              "      <td>no</td>\n",
              "      <td>889</td>\n",
              "      <td>yes</td>\n",
              "      <td>no</td>\n",
              "      <td>cellular</td>\n",
              "      <td>3</td>\n",
              "      <td>feb</td>\n",
              "      <td>902</td>\n",
              "      <td>1</td>\n",
              "      <td>-1</td>\n",
              "      <td>0</td>\n",
              "      <td>unknown</td>\n",
              "      <td>1</td>\n",
              "    </tr>\n",
              "  </tbody>\n",
              "</table>\n",
              "</div>\n",
              "    <div class=\"colab-df-buttons\">\n",
              "\n",
              "  <div class=\"colab-df-container\">\n",
              "    <button class=\"colab-df-convert\" onclick=\"convertToInteractive('df-6e6de8bd-767f-4c93-bc55-abb422ec5e3d')\"\n",
              "            title=\"Convert this dataframe to an interactive table.\"\n",
              "            style=\"display:none;\">\n",
              "\n",
              "  <svg xmlns=\"http://www.w3.org/2000/svg\" height=\"24px\" viewBox=\"0 -960 960 960\">\n",
              "    <path d=\"M120-120v-720h720v720H120Zm60-500h600v-160H180v160Zm220 220h160v-160H400v160Zm0 220h160v-160H400v160ZM180-400h160v-160H180v160Zm440 0h160v-160H620v160ZM180-180h160v-160H180v160Zm440 0h160v-160H620v160Z\"/>\n",
              "  </svg>\n",
              "    </button>\n",
              "\n",
              "  <style>\n",
              "    .colab-df-container {\n",
              "      display:flex;\n",
              "      gap: 12px;\n",
              "    }\n",
              "\n",
              "    .colab-df-convert {\n",
              "      background-color: #E8F0FE;\n",
              "      border: none;\n",
              "      border-radius: 50%;\n",
              "      cursor: pointer;\n",
              "      display: none;\n",
              "      fill: #1967D2;\n",
              "      height: 32px;\n",
              "      padding: 0 0 0 0;\n",
              "      width: 32px;\n",
              "    }\n",
              "\n",
              "    .colab-df-convert:hover {\n",
              "      background-color: #E2EBFA;\n",
              "      box-shadow: 0px 1px 2px rgba(60, 64, 67, 0.3), 0px 1px 3px 1px rgba(60, 64, 67, 0.15);\n",
              "      fill: #174EA6;\n",
              "    }\n",
              "\n",
              "    .colab-df-buttons div {\n",
              "      margin-bottom: 4px;\n",
              "    }\n",
              "\n",
              "    [theme=dark] .colab-df-convert {\n",
              "      background-color: #3B4455;\n",
              "      fill: #D2E3FC;\n",
              "    }\n",
              "\n",
              "    [theme=dark] .colab-df-convert:hover {\n",
              "      background-color: #434B5C;\n",
              "      box-shadow: 0px 1px 3px 1px rgba(0, 0, 0, 0.15);\n",
              "      filter: drop-shadow(0px 1px 2px rgba(0, 0, 0, 0.3));\n",
              "      fill: #FFFFFF;\n",
              "    }\n",
              "  </style>\n",
              "\n",
              "    <script>\n",
              "      const buttonEl =\n",
              "        document.querySelector('#df-6e6de8bd-767f-4c93-bc55-abb422ec5e3d button.colab-df-convert');\n",
              "      buttonEl.style.display =\n",
              "        google.colab.kernel.accessAllowed ? 'block' : 'none';\n",
              "\n",
              "      async function convertToInteractive(key) {\n",
              "        const element = document.querySelector('#df-6e6de8bd-767f-4c93-bc55-abb422ec5e3d');\n",
              "        const dataTable =\n",
              "          await google.colab.kernel.invokeFunction('convertToInteractive',\n",
              "                                                    [key], {});\n",
              "        if (!dataTable) return;\n",
              "\n",
              "        const docLinkHtml = 'Like what you see? Visit the ' +\n",
              "          '<a target=\"_blank\" href=https://colab.research.google.com/notebooks/data_table.ipynb>data table notebook</a>'\n",
              "          + ' to learn more about interactive tables.';\n",
              "        element.innerHTML = '';\n",
              "        dataTable['output_type'] = 'display_data';\n",
              "        await google.colab.output.renderOutput(dataTable, element);\n",
              "        const docLink = document.createElement('div');\n",
              "        docLink.innerHTML = docLinkHtml;\n",
              "        element.appendChild(docLink);\n",
              "      }\n",
              "    </script>\n",
              "  </div>\n",
              "\n",
              "\n",
              "    <div id=\"df-3757cc8d-7bbd-44c5-aa9c-75093a0c983b\">\n",
              "      <button class=\"colab-df-quickchart\" onclick=\"quickchart('df-3757cc8d-7bbd-44c5-aa9c-75093a0c983b')\"\n",
              "                title=\"Suggest charts\"\n",
              "                style=\"display:none;\">\n",
              "\n",
              "<svg xmlns=\"http://www.w3.org/2000/svg\" height=\"24px\"viewBox=\"0 0 24 24\"\n",
              "     width=\"24px\">\n",
              "    <g>\n",
              "        <path d=\"M19 3H5c-1.1 0-2 .9-2 2v14c0 1.1.9 2 2 2h14c1.1 0 2-.9 2-2V5c0-1.1-.9-2-2-2zM9 17H7v-7h2v7zm4 0h-2V7h2v10zm4 0h-2v-4h2v4z\"/>\n",
              "    </g>\n",
              "</svg>\n",
              "      </button>\n",
              "\n",
              "<style>\n",
              "  .colab-df-quickchart {\n",
              "      --bg-color: #E8F0FE;\n",
              "      --fill-color: #1967D2;\n",
              "      --hover-bg-color: #E2EBFA;\n",
              "      --hover-fill-color: #174EA6;\n",
              "      --disabled-fill-color: #AAA;\n",
              "      --disabled-bg-color: #DDD;\n",
              "  }\n",
              "\n",
              "  [theme=dark] .colab-df-quickchart {\n",
              "      --bg-color: #3B4455;\n",
              "      --fill-color: #D2E3FC;\n",
              "      --hover-bg-color: #434B5C;\n",
              "      --hover-fill-color: #FFFFFF;\n",
              "      --disabled-bg-color: #3B4455;\n",
              "      --disabled-fill-color: #666;\n",
              "  }\n",
              "\n",
              "  .colab-df-quickchart {\n",
              "    background-color: var(--bg-color);\n",
              "    border: none;\n",
              "    border-radius: 50%;\n",
              "    cursor: pointer;\n",
              "    display: none;\n",
              "    fill: var(--fill-color);\n",
              "    height: 32px;\n",
              "    padding: 0;\n",
              "    width: 32px;\n",
              "  }\n",
              "\n",
              "  .colab-df-quickchart:hover {\n",
              "    background-color: var(--hover-bg-color);\n",
              "    box-shadow: 0 1px 2px rgba(60, 64, 67, 0.3), 0 1px 3px 1px rgba(60, 64, 67, 0.15);\n",
              "    fill: var(--button-hover-fill-color);\n",
              "  }\n",
              "\n",
              "  .colab-df-quickchart-complete:disabled,\n",
              "  .colab-df-quickchart-complete:disabled:hover {\n",
              "    background-color: var(--disabled-bg-color);\n",
              "    fill: var(--disabled-fill-color);\n",
              "    box-shadow: none;\n",
              "  }\n",
              "\n",
              "  .colab-df-spinner {\n",
              "    border: 2px solid var(--fill-color);\n",
              "    border-color: transparent;\n",
              "    border-bottom-color: var(--fill-color);\n",
              "    animation:\n",
              "      spin 1s steps(1) infinite;\n",
              "  }\n",
              "\n",
              "  @keyframes spin {\n",
              "    0% {\n",
              "      border-color: transparent;\n",
              "      border-bottom-color: var(--fill-color);\n",
              "      border-left-color: var(--fill-color);\n",
              "    }\n",
              "    20% {\n",
              "      border-color: transparent;\n",
              "      border-left-color: var(--fill-color);\n",
              "      border-top-color: var(--fill-color);\n",
              "    }\n",
              "    30% {\n",
              "      border-color: transparent;\n",
              "      border-left-color: var(--fill-color);\n",
              "      border-top-color: var(--fill-color);\n",
              "      border-right-color: var(--fill-color);\n",
              "    }\n",
              "    40% {\n",
              "      border-color: transparent;\n",
              "      border-right-color: var(--fill-color);\n",
              "      border-top-color: var(--fill-color);\n",
              "    }\n",
              "    60% {\n",
              "      border-color: transparent;\n",
              "      border-right-color: var(--fill-color);\n",
              "    }\n",
              "    80% {\n",
              "      border-color: transparent;\n",
              "      border-right-color: var(--fill-color);\n",
              "      border-bottom-color: var(--fill-color);\n",
              "    }\n",
              "    90% {\n",
              "      border-color: transparent;\n",
              "      border-bottom-color: var(--fill-color);\n",
              "    }\n",
              "  }\n",
              "</style>\n",
              "\n",
              "      <script>\n",
              "        async function quickchart(key) {\n",
              "          const quickchartButtonEl =\n",
              "            document.querySelector('#' + key + ' button');\n",
              "          quickchartButtonEl.disabled = true;  // To prevent multiple clicks.\n",
              "          quickchartButtonEl.classList.add('colab-df-spinner');\n",
              "          try {\n",
              "            const charts = await google.colab.kernel.invokeFunction(\n",
              "                'suggestCharts', [key], {});\n",
              "          } catch (error) {\n",
              "            console.error('Error during call to suggestCharts:', error);\n",
              "          }\n",
              "          quickchartButtonEl.classList.remove('colab-df-spinner');\n",
              "          quickchartButtonEl.classList.add('colab-df-quickchart-complete');\n",
              "        }\n",
              "        (() => {\n",
              "          let quickchartButtonEl =\n",
              "            document.querySelector('#df-3757cc8d-7bbd-44c5-aa9c-75093a0c983b button');\n",
              "          quickchartButtonEl.style.display =\n",
              "            google.colab.kernel.accessAllowed ? 'block' : 'none';\n",
              "        })();\n",
              "      </script>\n",
              "    </div>\n",
              "\n",
              "    </div>\n",
              "  </div>\n"
            ],
            "application/vnd.google.colaboratory.intrinsic+json": {
              "type": "dataframe",
              "variable_name": "df"
            }
          },
          "metadata": {},
          "execution_count": 2
        }
      ],
      "source": [
        "df = pd.read_csv('trainBankDataset.csv', index_col='id')\n",
        "df.head()"
      ]
    },
    {
      "cell_type": "code",
      "execution_count": 3,
      "metadata": {
        "id": "rQdh668VEy9g",
        "colab": {
          "base_uri": "https://localhost:8080/"
        },
        "outputId": "efef2f33-3783-40ab-d8c8-303c257df107"
      },
      "outputs": [
        {
          "output_type": "execute_result",
          "data": {
            "text/plain": [
              "(750000, 17)"
            ]
          },
          "metadata": {},
          "execution_count": 3
        }
      ],
      "source": [
        "df.shape"
      ]
    },
    {
      "cell_type": "code",
      "execution_count": 4,
      "metadata": {
        "id": "T1TFDI2GG4U1",
        "colab": {
          "base_uri": "https://localhost:8080/"
        },
        "outputId": "f1d43870-07a1-4677-f0eb-562e28cdcb8b"
      },
      "outputs": [
        {
          "output_type": "execute_result",
          "data": {
            "text/plain": [
              "np.False_"
            ]
          },
          "metadata": {},
          "execution_count": 4
        }
      ],
      "source": [
        "df.isnull().any().any()"
      ]
    },
    {
      "cell_type": "code",
      "execution_count": 5,
      "metadata": {
        "id": "i5H_GPuMXaZX",
        "colab": {
          "base_uri": "https://localhost:8080/"
        },
        "outputId": "5fab7299-0498-49de-cdad-c46bd46ec151"
      },
      "outputs": [
        {
          "output_type": "execute_result",
          "data": {
            "text/plain": [
              "Index(['age', 'job', 'marital', 'education', 'default', 'balance', 'housing',\n",
              "       'loan', 'contact', 'day', 'month', 'duration', 'campaign', 'pdays',\n",
              "       'previous', 'poutcome', 'y'],\n",
              "      dtype='object')"
            ]
          },
          "metadata": {},
          "execution_count": 5
        }
      ],
      "source": [
        "df.columns"
      ]
    },
    {
      "cell_type": "code",
      "execution_count": 6,
      "metadata": {
        "id": "LYTpvj6iFem6",
        "colab": {
          "base_uri": "https://localhost:8080/"
        },
        "outputId": "f353dfb7-ab72-4d51-a2a5-490e7f6742a3"
      },
      "outputs": [
        {
          "output_type": "stream",
          "name": "stdout",
          "text": [
            "age 78 unique:\n",
            "job 12 unique:\n",
            "['technician' 'blue-collar' 'student' 'admin.' 'management' 'entrepreneur'\n",
            " 'self-employed' 'unknown' 'services' 'retired' 'housemaid' 'unemployed']\n",
            "marital 3 unique:\n",
            "['married' 'single' 'divorced']\n",
            "education 4 unique:\n",
            "['secondary' 'primary' 'tertiary' 'unknown']\n",
            "default 2 unique:\n",
            "['no' 'yes']\n",
            "balance 8217 unique:\n",
            "[    7   514   602 ... 13023  4003  8218]\n",
            "housing 2 unique:\n",
            "['no' 'yes']\n",
            "loan 2 unique:\n",
            "['no' 'yes']\n",
            "contact 3 unique:\n",
            "['cellular' 'unknown' 'telephone']\n",
            "day 31 unique:\n",
            "[25 18 14 28  3 20 21 31  4  8  5 24 11 12 26 30  6 10 19 17  2 13 29 23\n",
            " 27  7  9 16  1 22 15]\n",
            "month 12 unique:\n",
            "['aug' 'jun' 'may' 'feb' 'apr' 'nov' 'jul' 'jan' 'oct' 'mar' 'sep' 'dec']\n",
            "duration 1760 unique:\n",
            "campaign 52 unique:\n",
            "[ 3  1  2 25  5  7  4 11  6  9  8 16 10 15 12 13 19 17 14 22 23 34 18 29\n",
            " 24 30 21 27 36 28 20 35 32 26 40 37 31 33 63 51 46 39 43 48 41 44 38 42\n",
            " 55 50 58 45]\n",
            "pdays 596 unique:\n",
            "previous 50 unique:\n",
            "[  0   3   4   2   1   5   6  10  11   9   7  14  13  17   8  24  23  37\n",
            "  12  27  25  38  15  16  29  19  20  32  55  18  34  22  26  21  28  35\n",
            "  39  51  31  43  30  36  33  41  40  47  46 200  48  58]\n",
            "poutcome 4 unique:\n",
            "['unknown' 'other' 'failure' 'success']\n",
            "y 2 unique:\n",
            "[0 1]\n"
          ]
        }
      ],
      "source": [
        "skip_columns = ['age', 'pdays', 'duration']\n",
        "for col in df.columns:\n",
        "  unique_values = df[col].unique()\n",
        "  if col in skip_columns:\n",
        "    print(f\"{col} {len(unique_values)} unique:\")\n",
        "  else:\n",
        "    print(f\"{col} {len(unique_values)} unique:\")\n",
        "    print(unique_values)"
      ]
    },
    {
      "cell_type": "code",
      "execution_count": 7,
      "metadata": {
        "id": "86VrCy_uVCGy"
      },
      "outputs": [],
      "source": [
        "df['job'] = df['job'].str.replace(r'[^A-Za-z0-9 ]', '', regex=True)"
      ]
    },
    {
      "cell_type": "code",
      "execution_count": 8,
      "metadata": {
        "id": "1rsUc37BVnpt",
        "colab": {
          "base_uri": "https://localhost:8080/"
        },
        "outputId": "499b63ac-1d62-4425-8804-aea4068e6110"
      },
      "outputs": [
        {
          "output_type": "execute_result",
          "data": {
            "text/plain": [
              "array(['technician', 'bluecollar', 'student', 'admin', 'management',\n",
              "       'entrepreneur', 'selfemployed', 'unknown', 'services', 'retired',\n",
              "       'housemaid', 'unemployed'], dtype=object)"
            ]
          },
          "metadata": {},
          "execution_count": 8
        }
      ],
      "source": [
        "df['job'].unique()"
      ]
    },
    {
      "cell_type": "code",
      "execution_count": 9,
      "metadata": {
        "id": "Vq7W6vFNIL4f",
        "colab": {
          "base_uri": "https://localhost:8080/",
          "height": 178
        },
        "outputId": "0c2baa68-4e2b-4d21-a69a-44e49b13faa1"
      },
      "outputs": [
        {
          "output_type": "execute_result",
          "data": {
            "text/plain": [
              "y\n",
              "0    0.879349\n",
              "1    0.120651\n",
              "Name: proportion, dtype: float64"
            ],
            "text/html": [
              "<div>\n",
              "<style scoped>\n",
              "    .dataframe tbody tr th:only-of-type {\n",
              "        vertical-align: middle;\n",
              "    }\n",
              "\n",
              "    .dataframe tbody tr th {\n",
              "        vertical-align: top;\n",
              "    }\n",
              "\n",
              "    .dataframe thead th {\n",
              "        text-align: right;\n",
              "    }\n",
              "</style>\n",
              "<table border=\"1\" class=\"dataframe\">\n",
              "  <thead>\n",
              "    <tr style=\"text-align: right;\">\n",
              "      <th></th>\n",
              "      <th>proportion</th>\n",
              "    </tr>\n",
              "    <tr>\n",
              "      <th>y</th>\n",
              "      <th></th>\n",
              "    </tr>\n",
              "  </thead>\n",
              "  <tbody>\n",
              "    <tr>\n",
              "      <th>0</th>\n",
              "      <td>0.879349</td>\n",
              "    </tr>\n",
              "    <tr>\n",
              "      <th>1</th>\n",
              "      <td>0.120651</td>\n",
              "    </tr>\n",
              "  </tbody>\n",
              "</table>\n",
              "</div><br><label><b>dtype:</b> float64</label>"
            ]
          },
          "metadata": {},
          "execution_count": 9
        }
      ],
      "source": [
        "df['y'].value_counts(normalize=True)"
      ]
    },
    {
      "cell_type": "code",
      "execution_count": 10,
      "metadata": {
        "id": "KMFKu6GCTToZ"
      },
      "outputs": [],
      "source": [
        "df.drop_duplicates(inplace=True)"
      ]
    },
    {
      "cell_type": "code",
      "execution_count": 11,
      "metadata": {
        "id": "0HAlHERGSh-O",
        "colab": {
          "base_uri": "https://localhost:8080/"
        },
        "outputId": "dd5a5237-d40b-4e74-ae87-dc830adcd1bc"
      },
      "outputs": [
        {
          "output_type": "stream",
          "name": "stdout",
          "text": [
            "<class 'pandas.core.frame.DataFrame'>\n",
            "Index: 750000 entries, 0 to 749999\n",
            "Data columns (total 17 columns):\n",
            " #   Column     Non-Null Count   Dtype \n",
            "---  ------     --------------   ----- \n",
            " 0   age        750000 non-null  int64 \n",
            " 1   job        750000 non-null  object\n",
            " 2   marital    750000 non-null  object\n",
            " 3   education  750000 non-null  object\n",
            " 4   default    750000 non-null  object\n",
            " 5   balance    750000 non-null  int64 \n",
            " 6   housing    750000 non-null  object\n",
            " 7   loan       750000 non-null  object\n",
            " 8   contact    750000 non-null  object\n",
            " 9   day        750000 non-null  int64 \n",
            " 10  month      750000 non-null  object\n",
            " 11  duration   750000 non-null  int64 \n",
            " 12  campaign   750000 non-null  int64 \n",
            " 13  pdays      750000 non-null  int64 \n",
            " 14  previous   750000 non-null  int64 \n",
            " 15  poutcome   750000 non-null  object\n",
            " 16  y          750000 non-null  int64 \n",
            "dtypes: int64(8), object(9)\n",
            "memory usage: 103.0+ MB\n"
          ]
        }
      ],
      "source": [
        "df.info()"
      ]
    },
    {
      "cell_type": "code",
      "execution_count": 12,
      "metadata": {
        "id": "6j5gK06sTAoF",
        "colab": {
          "base_uri": "https://localhost:8080/",
          "height": 300
        },
        "outputId": "af5875b1-179f-4304-93ef-fae3064935a6"
      },
      "outputs": [
        {
          "output_type": "execute_result",
          "data": {
            "text/plain": [
              "                 age        balance            day       duration  \\\n",
              "count  750000.000000  750000.000000  750000.000000  750000.000000   \n",
              "mean       40.926395    1204.067397      16.117209     256.229144   \n",
              "std        10.098829    2836.096759       8.250832     272.555662   \n",
              "min        18.000000   -8019.000000       1.000000       1.000000   \n",
              "25%        33.000000       0.000000       9.000000      91.000000   \n",
              "50%        39.000000     634.000000      17.000000     133.000000   \n",
              "75%        48.000000    1390.000000      21.000000     361.000000   \n",
              "max        95.000000   99717.000000      31.000000    4918.000000   \n",
              "\n",
              "            campaign          pdays       previous              y  \n",
              "count  750000.000000  750000.000000  750000.000000  750000.000000  \n",
              "mean        2.577008      22.412733       0.298545       0.120651  \n",
              "std         2.718514      77.319998       1.335926       0.325721  \n",
              "min         1.000000      -1.000000       0.000000       0.000000  \n",
              "25%         1.000000      -1.000000       0.000000       0.000000  \n",
              "50%         2.000000      -1.000000       0.000000       0.000000  \n",
              "75%         3.000000      -1.000000       0.000000       0.000000  \n",
              "max        63.000000     871.000000     200.000000       1.000000  "
            ],
            "text/html": [
              "\n",
              "  <div id=\"df-14c198f6-76a0-46b1-b180-c54bdafe53eb\" class=\"colab-df-container\">\n",
              "    <div>\n",
              "<style scoped>\n",
              "    .dataframe tbody tr th:only-of-type {\n",
              "        vertical-align: middle;\n",
              "    }\n",
              "\n",
              "    .dataframe tbody tr th {\n",
              "        vertical-align: top;\n",
              "    }\n",
              "\n",
              "    .dataframe thead th {\n",
              "        text-align: right;\n",
              "    }\n",
              "</style>\n",
              "<table border=\"1\" class=\"dataframe\">\n",
              "  <thead>\n",
              "    <tr style=\"text-align: right;\">\n",
              "      <th></th>\n",
              "      <th>age</th>\n",
              "      <th>balance</th>\n",
              "      <th>day</th>\n",
              "      <th>duration</th>\n",
              "      <th>campaign</th>\n",
              "      <th>pdays</th>\n",
              "      <th>previous</th>\n",
              "      <th>y</th>\n",
              "    </tr>\n",
              "  </thead>\n",
              "  <tbody>\n",
              "    <tr>\n",
              "      <th>count</th>\n",
              "      <td>750000.000000</td>\n",
              "      <td>750000.000000</td>\n",
              "      <td>750000.000000</td>\n",
              "      <td>750000.000000</td>\n",
              "      <td>750000.000000</td>\n",
              "      <td>750000.000000</td>\n",
              "      <td>750000.000000</td>\n",
              "      <td>750000.000000</td>\n",
              "    </tr>\n",
              "    <tr>\n",
              "      <th>mean</th>\n",
              "      <td>40.926395</td>\n",
              "      <td>1204.067397</td>\n",
              "      <td>16.117209</td>\n",
              "      <td>256.229144</td>\n",
              "      <td>2.577008</td>\n",
              "      <td>22.412733</td>\n",
              "      <td>0.298545</td>\n",
              "      <td>0.120651</td>\n",
              "    </tr>\n",
              "    <tr>\n",
              "      <th>std</th>\n",
              "      <td>10.098829</td>\n",
              "      <td>2836.096759</td>\n",
              "      <td>8.250832</td>\n",
              "      <td>272.555662</td>\n",
              "      <td>2.718514</td>\n",
              "      <td>77.319998</td>\n",
              "      <td>1.335926</td>\n",
              "      <td>0.325721</td>\n",
              "    </tr>\n",
              "    <tr>\n",
              "      <th>min</th>\n",
              "      <td>18.000000</td>\n",
              "      <td>-8019.000000</td>\n",
              "      <td>1.000000</td>\n",
              "      <td>1.000000</td>\n",
              "      <td>1.000000</td>\n",
              "      <td>-1.000000</td>\n",
              "      <td>0.000000</td>\n",
              "      <td>0.000000</td>\n",
              "    </tr>\n",
              "    <tr>\n",
              "      <th>25%</th>\n",
              "      <td>33.000000</td>\n",
              "      <td>0.000000</td>\n",
              "      <td>9.000000</td>\n",
              "      <td>91.000000</td>\n",
              "      <td>1.000000</td>\n",
              "      <td>-1.000000</td>\n",
              "      <td>0.000000</td>\n",
              "      <td>0.000000</td>\n",
              "    </tr>\n",
              "    <tr>\n",
              "      <th>50%</th>\n",
              "      <td>39.000000</td>\n",
              "      <td>634.000000</td>\n",
              "      <td>17.000000</td>\n",
              "      <td>133.000000</td>\n",
              "      <td>2.000000</td>\n",
              "      <td>-1.000000</td>\n",
              "      <td>0.000000</td>\n",
              "      <td>0.000000</td>\n",
              "    </tr>\n",
              "    <tr>\n",
              "      <th>75%</th>\n",
              "      <td>48.000000</td>\n",
              "      <td>1390.000000</td>\n",
              "      <td>21.000000</td>\n",
              "      <td>361.000000</td>\n",
              "      <td>3.000000</td>\n",
              "      <td>-1.000000</td>\n",
              "      <td>0.000000</td>\n",
              "      <td>0.000000</td>\n",
              "    </tr>\n",
              "    <tr>\n",
              "      <th>max</th>\n",
              "      <td>95.000000</td>\n",
              "      <td>99717.000000</td>\n",
              "      <td>31.000000</td>\n",
              "      <td>4918.000000</td>\n",
              "      <td>63.000000</td>\n",
              "      <td>871.000000</td>\n",
              "      <td>200.000000</td>\n",
              "      <td>1.000000</td>\n",
              "    </tr>\n",
              "  </tbody>\n",
              "</table>\n",
              "</div>\n",
              "    <div class=\"colab-df-buttons\">\n",
              "\n",
              "  <div class=\"colab-df-container\">\n",
              "    <button class=\"colab-df-convert\" onclick=\"convertToInteractive('df-14c198f6-76a0-46b1-b180-c54bdafe53eb')\"\n",
              "            title=\"Convert this dataframe to an interactive table.\"\n",
              "            style=\"display:none;\">\n",
              "\n",
              "  <svg xmlns=\"http://www.w3.org/2000/svg\" height=\"24px\" viewBox=\"0 -960 960 960\">\n",
              "    <path d=\"M120-120v-720h720v720H120Zm60-500h600v-160H180v160Zm220 220h160v-160H400v160Zm0 220h160v-160H400v160ZM180-400h160v-160H180v160Zm440 0h160v-160H620v160ZM180-180h160v-160H180v160Zm440 0h160v-160H620v160Z\"/>\n",
              "  </svg>\n",
              "    </button>\n",
              "\n",
              "  <style>\n",
              "    .colab-df-container {\n",
              "      display:flex;\n",
              "      gap: 12px;\n",
              "    }\n",
              "\n",
              "    .colab-df-convert {\n",
              "      background-color: #E8F0FE;\n",
              "      border: none;\n",
              "      border-radius: 50%;\n",
              "      cursor: pointer;\n",
              "      display: none;\n",
              "      fill: #1967D2;\n",
              "      height: 32px;\n",
              "      padding: 0 0 0 0;\n",
              "      width: 32px;\n",
              "    }\n",
              "\n",
              "    .colab-df-convert:hover {\n",
              "      background-color: #E2EBFA;\n",
              "      box-shadow: 0px 1px 2px rgba(60, 64, 67, 0.3), 0px 1px 3px 1px rgba(60, 64, 67, 0.15);\n",
              "      fill: #174EA6;\n",
              "    }\n",
              "\n",
              "    .colab-df-buttons div {\n",
              "      margin-bottom: 4px;\n",
              "    }\n",
              "\n",
              "    [theme=dark] .colab-df-convert {\n",
              "      background-color: #3B4455;\n",
              "      fill: #D2E3FC;\n",
              "    }\n",
              "\n",
              "    [theme=dark] .colab-df-convert:hover {\n",
              "      background-color: #434B5C;\n",
              "      box-shadow: 0px 1px 3px 1px rgba(0, 0, 0, 0.15);\n",
              "      filter: drop-shadow(0px 1px 2px rgba(0, 0, 0, 0.3));\n",
              "      fill: #FFFFFF;\n",
              "    }\n",
              "  </style>\n",
              "\n",
              "    <script>\n",
              "      const buttonEl =\n",
              "        document.querySelector('#df-14c198f6-76a0-46b1-b180-c54bdafe53eb button.colab-df-convert');\n",
              "      buttonEl.style.display =\n",
              "        google.colab.kernel.accessAllowed ? 'block' : 'none';\n",
              "\n",
              "      async function convertToInteractive(key) {\n",
              "        const element = document.querySelector('#df-14c198f6-76a0-46b1-b180-c54bdafe53eb');\n",
              "        const dataTable =\n",
              "          await google.colab.kernel.invokeFunction('convertToInteractive',\n",
              "                                                    [key], {});\n",
              "        if (!dataTable) return;\n",
              "\n",
              "        const docLinkHtml = 'Like what you see? Visit the ' +\n",
              "          '<a target=\"_blank\" href=https://colab.research.google.com/notebooks/data_table.ipynb>data table notebook</a>'\n",
              "          + ' to learn more about interactive tables.';\n",
              "        element.innerHTML = '';\n",
              "        dataTable['output_type'] = 'display_data';\n",
              "        await google.colab.output.renderOutput(dataTable, element);\n",
              "        const docLink = document.createElement('div');\n",
              "        docLink.innerHTML = docLinkHtml;\n",
              "        element.appendChild(docLink);\n",
              "      }\n",
              "    </script>\n",
              "  </div>\n",
              "\n",
              "\n",
              "    <div id=\"df-3e614024-9d30-46d5-a7d9-dc85e80aaed7\">\n",
              "      <button class=\"colab-df-quickchart\" onclick=\"quickchart('df-3e614024-9d30-46d5-a7d9-dc85e80aaed7')\"\n",
              "                title=\"Suggest charts\"\n",
              "                style=\"display:none;\">\n",
              "\n",
              "<svg xmlns=\"http://www.w3.org/2000/svg\" height=\"24px\"viewBox=\"0 0 24 24\"\n",
              "     width=\"24px\">\n",
              "    <g>\n",
              "        <path d=\"M19 3H5c-1.1 0-2 .9-2 2v14c0 1.1.9 2 2 2h14c1.1 0 2-.9 2-2V5c0-1.1-.9-2-2-2zM9 17H7v-7h2v7zm4 0h-2V7h2v10zm4 0h-2v-4h2v4z\"/>\n",
              "    </g>\n",
              "</svg>\n",
              "      </button>\n",
              "\n",
              "<style>\n",
              "  .colab-df-quickchart {\n",
              "      --bg-color: #E8F0FE;\n",
              "      --fill-color: #1967D2;\n",
              "      --hover-bg-color: #E2EBFA;\n",
              "      --hover-fill-color: #174EA6;\n",
              "      --disabled-fill-color: #AAA;\n",
              "      --disabled-bg-color: #DDD;\n",
              "  }\n",
              "\n",
              "  [theme=dark] .colab-df-quickchart {\n",
              "      --bg-color: #3B4455;\n",
              "      --fill-color: #D2E3FC;\n",
              "      --hover-bg-color: #434B5C;\n",
              "      --hover-fill-color: #FFFFFF;\n",
              "      --disabled-bg-color: #3B4455;\n",
              "      --disabled-fill-color: #666;\n",
              "  }\n",
              "\n",
              "  .colab-df-quickchart {\n",
              "    background-color: var(--bg-color);\n",
              "    border: none;\n",
              "    border-radius: 50%;\n",
              "    cursor: pointer;\n",
              "    display: none;\n",
              "    fill: var(--fill-color);\n",
              "    height: 32px;\n",
              "    padding: 0;\n",
              "    width: 32px;\n",
              "  }\n",
              "\n",
              "  .colab-df-quickchart:hover {\n",
              "    background-color: var(--hover-bg-color);\n",
              "    box-shadow: 0 1px 2px rgba(60, 64, 67, 0.3), 0 1px 3px 1px rgba(60, 64, 67, 0.15);\n",
              "    fill: var(--button-hover-fill-color);\n",
              "  }\n",
              "\n",
              "  .colab-df-quickchart-complete:disabled,\n",
              "  .colab-df-quickchart-complete:disabled:hover {\n",
              "    background-color: var(--disabled-bg-color);\n",
              "    fill: var(--disabled-fill-color);\n",
              "    box-shadow: none;\n",
              "  }\n",
              "\n",
              "  .colab-df-spinner {\n",
              "    border: 2px solid var(--fill-color);\n",
              "    border-color: transparent;\n",
              "    border-bottom-color: var(--fill-color);\n",
              "    animation:\n",
              "      spin 1s steps(1) infinite;\n",
              "  }\n",
              "\n",
              "  @keyframes spin {\n",
              "    0% {\n",
              "      border-color: transparent;\n",
              "      border-bottom-color: var(--fill-color);\n",
              "      border-left-color: var(--fill-color);\n",
              "    }\n",
              "    20% {\n",
              "      border-color: transparent;\n",
              "      border-left-color: var(--fill-color);\n",
              "      border-top-color: var(--fill-color);\n",
              "    }\n",
              "    30% {\n",
              "      border-color: transparent;\n",
              "      border-left-color: var(--fill-color);\n",
              "      border-top-color: var(--fill-color);\n",
              "      border-right-color: var(--fill-color);\n",
              "    }\n",
              "    40% {\n",
              "      border-color: transparent;\n",
              "      border-right-color: var(--fill-color);\n",
              "      border-top-color: var(--fill-color);\n",
              "    }\n",
              "    60% {\n",
              "      border-color: transparent;\n",
              "      border-right-color: var(--fill-color);\n",
              "    }\n",
              "    80% {\n",
              "      border-color: transparent;\n",
              "      border-right-color: var(--fill-color);\n",
              "      border-bottom-color: var(--fill-color);\n",
              "    }\n",
              "    90% {\n",
              "      border-color: transparent;\n",
              "      border-bottom-color: var(--fill-color);\n",
              "    }\n",
              "  }\n",
              "</style>\n",
              "\n",
              "      <script>\n",
              "        async function quickchart(key) {\n",
              "          const quickchartButtonEl =\n",
              "            document.querySelector('#' + key + ' button');\n",
              "          quickchartButtonEl.disabled = true;  // To prevent multiple clicks.\n",
              "          quickchartButtonEl.classList.add('colab-df-spinner');\n",
              "          try {\n",
              "            const charts = await google.colab.kernel.invokeFunction(\n",
              "                'suggestCharts', [key], {});\n",
              "          } catch (error) {\n",
              "            console.error('Error during call to suggestCharts:', error);\n",
              "          }\n",
              "          quickchartButtonEl.classList.remove('colab-df-spinner');\n",
              "          quickchartButtonEl.classList.add('colab-df-quickchart-complete');\n",
              "        }\n",
              "        (() => {\n",
              "          let quickchartButtonEl =\n",
              "            document.querySelector('#df-3e614024-9d30-46d5-a7d9-dc85e80aaed7 button');\n",
              "          quickchartButtonEl.style.display =\n",
              "            google.colab.kernel.accessAllowed ? 'block' : 'none';\n",
              "        })();\n",
              "      </script>\n",
              "    </div>\n",
              "\n",
              "    </div>\n",
              "  </div>\n"
            ],
            "application/vnd.google.colaboratory.intrinsic+json": {
              "type": "dataframe",
              "summary": "{\n  \"name\": \"df\",\n  \"rows\": 8,\n  \"fields\": [\n    {\n      \"column\": \"age\",\n      \"properties\": {\n        \"dtype\": \"number\",\n        \"std\": 265150.69872129825,\n        \"min\": 10.098828887713593,\n        \"max\": 750000.0,\n        \"num_unique_values\": 8,\n        \"samples\": [\n          40.92639466666667,\n          39.0,\n          750000.0\n        ],\n        \"semantic_type\": \"\",\n        \"description\": \"\"\n      }\n    },\n    {\n      \"column\": \"balance\",\n      \"properties\": {\n        \"dtype\": \"number\",\n        \"std\": 262592.0317193036,\n        \"min\": -8019.0,\n        \"max\": 750000.0,\n        \"num_unique_values\": 8,\n        \"samples\": [\n          1204.0673973333332,\n          634.0,\n          750000.0\n        ],\n        \"semantic_type\": \"\",\n        \"description\": \"\"\n      }\n    },\n    {\n      \"column\": \"day\",\n      \"properties\": {\n        \"dtype\": \"number\",\n        \"std\": 265159.8222251765,\n        \"min\": 1.0,\n        \"max\": 750000.0,\n        \"num_unique_values\": 8,\n        \"samples\": [\n          16.117209333333335,\n          17.0,\n          750000.0\n        ],\n        \"semantic_type\": \"\",\n        \"description\": \"\"\n      }\n    },\n    {\n      \"column\": \"duration\",\n      \"properties\": {\n        \"dtype\": \"number\",\n        \"std\": 264865.5417628481,\n        \"min\": 1.0,\n        \"max\": 750000.0,\n        \"num_unique_values\": 8,\n        \"samples\": [\n          256.229144,\n          133.0,\n          750000.0\n        ],\n        \"semantic_type\": \"\",\n        \"description\": \"\"\n      }\n    },\n    {\n      \"column\": \"campaign\",\n      \"properties\": {\n        \"dtype\": \"number\",\n        \"std\": 265161.240805619,\n        \"min\": 1.0,\n        \"max\": 750000.0,\n        \"num_unique_values\": 7,\n        \"samples\": [\n          750000.0,\n          2.577008,\n          3.0\n        ],\n        \"semantic_type\": \"\",\n        \"description\": \"\"\n      }\n    },\n    {\n      \"column\": \"pdays\",\n      \"properties\": {\n        \"dtype\": \"number\",\n        \"std\": 265116.38574058074,\n        \"min\": -1.0,\n        \"max\": 750000.0,\n        \"num_unique_values\": 5,\n        \"samples\": [\n          22.412733333333332,\n          871.0,\n          77.31999814440587\n        ],\n        \"semantic_type\": \"\",\n        \"description\": \"\"\n      }\n    },\n    {\n      \"column\": \"previous\",\n      \"properties\": {\n        \"dtype\": \"number\",\n        \"std\": 265154.86807751557,\n        \"min\": 0.0,\n        \"max\": 750000.0,\n        \"num_unique_values\": 5,\n        \"samples\": [\n          0.29854533333333333,\n          200.0,\n          1.3359260446922236\n        ],\n        \"semantic_type\": \"\",\n        \"description\": \"\"\n      }\n    },\n    {\n      \"column\": \"y\",\n      \"properties\": {\n        \"dtype\": \"number\",\n        \"std\": 265164.96989237145,\n        \"min\": 0.0,\n        \"max\": 750000.0,\n        \"num_unique_values\": 5,\n        \"samples\": [\n          0.12065066666666667,\n          1.0,\n          0.3257210843005278\n        ],\n        \"semantic_type\": \"\",\n        \"description\": \"\"\n      }\n    }\n  ]\n}"
            }
          },
          "metadata": {},
          "execution_count": 12
        }
      ],
      "source": [
        "df.describe()"
      ]
    },
    {
      "cell_type": "code",
      "execution_count": 13,
      "metadata": {
        "id": "cR-d3UGuWltI"
      },
      "outputs": [],
      "source": [
        "copy_df = df.copy()\n",
        "copy_df = copy_df.replace('unknown', np.nan)"
      ]
    },
    {
      "cell_type": "code",
      "execution_count": 14,
      "metadata": {
        "id": "9ZqiWB4TXzJT"
      },
      "outputs": [],
      "source": [
        "# Importing libraries\n",
        "from xgboost import XGBClassifier\n",
        "from lightgbm import LGBMClassifier\n",
        "from sklearn.tree import DecisionTreeClassifier\n",
        "from sklearn.ensemble import RandomForestClassifier\n",
        "from sklearn.preprocessing import LabelEncoder\n",
        "from sklearn.pipeline import Pipeline\n",
        "from sklearn.model_selection import train_test_split, GridSearchCV, cross_val_score\n",
        "from sklearn.metrics import accuracy_score, classification_report, f1_score, confusion_matrix, roc_auc_score\n",
        "from sklearn.feature_selection import mutual_info_classif\n",
        "from sklearn.preprocessing import StandardScaler, OneHotEncoder, OrdinalEncoder\n",
        "from sklearn.compose import ColumnTransformer\n",
        "from sklearn.base import BaseEstimator, TransformerMixin\n",
        "from sklearn.impute import SimpleImputer\n",
        "from imblearn.over_sampling import SMOTE\n",
        "from scipy.stats import pointbiserialr, chi2_contingency\n",
        "from imblearn.pipeline import Pipeline as ImbPipeline"
      ]
    },
    {
      "cell_type": "code",
      "execution_count": 15,
      "metadata": {
        "id": "ng9vXQ15XTjf",
        "colab": {
          "base_uri": "https://localhost:8080/",
          "height": 585
        },
        "outputId": "47b3840c-bc2e-45f5-8d69-241ee63ca49b"
      },
      "outputs": [
        {
          "output_type": "execute_result",
          "data": {
            "text/plain": [
              "duration     0.155544\n",
              "housing      0.121260\n",
              "balance      0.074491\n",
              "month        0.044372\n",
              "education    0.040814\n",
              "contact      0.037406\n",
              "poutcome     0.029546\n",
              "pdays        0.028790\n",
              "job          0.027485\n",
              "marital      0.019705\n",
              "age          0.014846\n",
              "loan         0.012444\n",
              "previous     0.011776\n",
              "day          0.009027\n",
              "campaign     0.004859\n",
              "default      0.001113\n",
              "Name: MI SCORES, dtype: float64"
            ],
            "text/html": [
              "<div>\n",
              "<style scoped>\n",
              "    .dataframe tbody tr th:only-of-type {\n",
              "        vertical-align: middle;\n",
              "    }\n",
              "\n",
              "    .dataframe tbody tr th {\n",
              "        vertical-align: top;\n",
              "    }\n",
              "\n",
              "    .dataframe thead th {\n",
              "        text-align: right;\n",
              "    }\n",
              "</style>\n",
              "<table border=\"1\" class=\"dataframe\">\n",
              "  <thead>\n",
              "    <tr style=\"text-align: right;\">\n",
              "      <th></th>\n",
              "      <th>MI SCORES</th>\n",
              "    </tr>\n",
              "  </thead>\n",
              "  <tbody>\n",
              "    <tr>\n",
              "      <th>duration</th>\n",
              "      <td>0.155544</td>\n",
              "    </tr>\n",
              "    <tr>\n",
              "      <th>housing</th>\n",
              "      <td>0.121260</td>\n",
              "    </tr>\n",
              "    <tr>\n",
              "      <th>balance</th>\n",
              "      <td>0.074491</td>\n",
              "    </tr>\n",
              "    <tr>\n",
              "      <th>month</th>\n",
              "      <td>0.044372</td>\n",
              "    </tr>\n",
              "    <tr>\n",
              "      <th>education</th>\n",
              "      <td>0.040814</td>\n",
              "    </tr>\n",
              "    <tr>\n",
              "      <th>contact</th>\n",
              "      <td>0.037406</td>\n",
              "    </tr>\n",
              "    <tr>\n",
              "      <th>poutcome</th>\n",
              "      <td>0.029546</td>\n",
              "    </tr>\n",
              "    <tr>\n",
              "      <th>pdays</th>\n",
              "      <td>0.028790</td>\n",
              "    </tr>\n",
              "    <tr>\n",
              "      <th>job</th>\n",
              "      <td>0.027485</td>\n",
              "    </tr>\n",
              "    <tr>\n",
              "      <th>marital</th>\n",
              "      <td>0.019705</td>\n",
              "    </tr>\n",
              "    <tr>\n",
              "      <th>age</th>\n",
              "      <td>0.014846</td>\n",
              "    </tr>\n",
              "    <tr>\n",
              "      <th>loan</th>\n",
              "      <td>0.012444</td>\n",
              "    </tr>\n",
              "    <tr>\n",
              "      <th>previous</th>\n",
              "      <td>0.011776</td>\n",
              "    </tr>\n",
              "    <tr>\n",
              "      <th>day</th>\n",
              "      <td>0.009027</td>\n",
              "    </tr>\n",
              "    <tr>\n",
              "      <th>campaign</th>\n",
              "      <td>0.004859</td>\n",
              "    </tr>\n",
              "    <tr>\n",
              "      <th>default</th>\n",
              "      <td>0.001113</td>\n",
              "    </tr>\n",
              "  </tbody>\n",
              "</table>\n",
              "</div><br><label><b>dtype:</b> float64</label>"
            ]
          },
          "metadata": {},
          "execution_count": 15
        }
      ],
      "source": [
        "features = ['age', 'job', 'marital', 'education', 'default', 'balance', 'housing',\n",
        "            'loan', 'contact', 'day', 'month', 'duration', 'campaign', 'pdays', 'previous', 'poutcome']\n",
        "target = 'y'\n",
        "X, y = df[features], df[target]\n",
        "x, Y = copy_df[features], copy_df[target]\n",
        "\n",
        "train_X, val_X, train_y, val_y = train_test_split(X, y, random_state=42)\n",
        "\n",
        "for col in X.select_dtypes('object'):\n",
        "    X.loc[:, col], _ = X[col].factorize()\n",
        "discrete_features = X.dtypes == int\n",
        "y, _ = pd.factorize(y)\n",
        "\n",
        "def make_mi_scores(X, y, discrete_features):\n",
        "    mi_scores = mutual_info_classif(X, y, discrete_features=discrete_features)\n",
        "    mi_scores = pd.Series(mi_scores, name='MI SCORES', index=X.columns)\n",
        "    mi_scores = mi_scores.sort_values(ascending=False)\n",
        "    return mi_scores\n",
        "\n",
        "mi_scores = make_mi_scores(X, y, discrete_features)\n",
        "mi_scores"
      ]
    },
    {
      "cell_type": "code",
      "execution_count": 16,
      "metadata": {
        "id": "XyTMGCFvgJ0B",
        "colab": {
          "base_uri": "https://localhost:8080/"
        },
        "outputId": "c331458c-34d3-4564-8090-5710dfe7f6f0"
      },
      "outputs": [
        {
          "output_type": "stream",
          "name": "stdout",
          "text": [
            "\n",
            "📊 Combined Feature Correlation Report with Target:\n",
            "poutcome     0.308984\n",
            "month        0.263997\n",
            "contact      0.159905\n",
            "job          0.157259\n",
            "duration     0.154343\n",
            "housing      0.153581\n",
            "marital      0.090983\n",
            "education    0.089479\n",
            "loan         0.081625\n",
            "balance      0.069450\n",
            "default      0.030096\n",
            "pdays        0.029795\n",
            "campaign     0.023961\n",
            "age          0.018543\n",
            "day          0.014233\n",
            "previous     0.012406\n",
            "dtype: float64\n"
          ]
        }
      ],
      "source": [
        "categorical_col = ['job', 'marital', 'education', 'default', 'housing', 'loan', 'contact', 'month', 'poutcome']\n",
        "numerical_col = ['age', 'balance', 'day', 'duration', 'campaign', 'pdays', 'previous']\n",
        "\n",
        "def cramers_v(x, y):\n",
        "    confusion_matrix = pd.crosstab(x, y)\n",
        "    chi2 = chi2_contingency(confusion_matrix)[0]\n",
        "    n = confusion_matrix.sum().sum()\n",
        "    phi2 = chi2 / n\n",
        "    r, k = confusion_matrix.shape\n",
        "    phi2corr = max(0, phi2 - ((k-1)*(r-1)) / (n-1))\n",
        "    rcorr = r - ((r-1)**2)/(n-1)\n",
        "    kcorr = k - ((k-1)**2)/(n-1)\n",
        "    return np.sqrt(phi2corr / min((kcorr-1), (rcorr-1)))\n",
        "\n",
        "cramers_scores = {}\n",
        "for col in categorical_col:\n",
        "    cramers_scores[col] = cramers_v(df[col], df[target])\n",
        "\n",
        "X_num = df[numerical_col]\n",
        "y = df[target]\n",
        "mi_scores = mutual_info_classif(X_num, y, discrete_features=False)\n",
        "mi_scores_dict = dict(zip(numerical_col, mi_scores))\n",
        "\n",
        "all_scores = {**cramers_scores, **mi_scores_dict}\n",
        "all_scores_series = pd.Series(all_scores).sort_values(ascending=False)\n",
        "\n",
        "print(\"\\n📊 Combined Feature Correlation Report with Target:\")\n",
        "print(all_scores_series)"
      ]
    },
    {
      "cell_type": "code",
      "execution_count": 17,
      "metadata": {
        "id": "HfRortHorUNK",
        "colab": {
          "base_uri": "https://localhost:8080/"
        },
        "outputId": "0dd38d04-b398-4a96-d89e-da0019cd2018"
      },
      "outputs": [
        {
          "output_type": "stream",
          "name": "stdout",
          "text": [
            "Accuracy 0.9071413333333334\n"
          ]
        }
      ],
      "source": [
        "preprocessor = ColumnTransformer(\n",
        "    transformers=[\n",
        "        ('cat', OneHotEncoder(handle_unknown='ignore'), categorical_col),\n",
        "        ('num', 'passthrough', numerical_col)\n",
        "    ])\n",
        "\n",
        "decisionModel = Pipeline(\n",
        "    steps=[\n",
        "        ('preprocessor', preprocessor),\n",
        "        ('classifier', DecisionTreeClassifier(random_state=42))\n",
        "    ]\n",
        ")\n",
        "decisionModel.fit(train_X, train_y)\n",
        "decision_y_preds = decisionModel.predict(val_X)\n",
        "print('Accuracy', accuracy_score(val_y, decision_y_preds))"
      ]
    },
    {
      "cell_type": "code",
      "execution_count": 18,
      "metadata": {
        "id": "5bh11am88gzp",
        "colab": {
          "base_uri": "https://localhost:8080/"
        },
        "outputId": "fa69f784-b3df-42e7-f0a5-27847903354c"
      },
      "outputs": [
        {
          "output_type": "stream",
          "name": "stdout",
          "text": [
            "Accuracy 0.9056746666666666\n"
          ]
        }
      ],
      "source": [
        "preprocessor = ColumnTransformer(\n",
        "    transformers=[\n",
        "        ('cat', OrdinalEncoder(handle_unknown='use_encoded_value', unknown_value=-1), categorical_col),\n",
        "        ('num', 'passthrough', numerical_col)\n",
        "    ])\n",
        "\n",
        "decisionModel = Pipeline(\n",
        "    steps=[\n",
        "        ('preprocessor', preprocessor),\n",
        "        ('classifier', DecisionTreeClassifier(random_state=42))\n",
        "    ]\n",
        ")\n",
        "decisionModel.fit(train_X, train_y)\n",
        "decision_y_preds = decisionModel.predict(val_X)\n",
        "print('Accuracy', accuracy_score(val_y, decision_y_preds))"
      ]
    },
    {
      "cell_type": "code",
      "execution_count": 19,
      "metadata": {
        "id": "OhS5eMb-_AZ7",
        "colab": {
          "base_uri": "https://localhost:8080/"
        },
        "outputId": "ea84e8b3-c37c-4470-b4e9-c18b30745c18"
      },
      "outputs": [
        {
          "output_type": "stream",
          "name": "stdout",
          "text": [
            "Accuracy 0.9048586666666667\n"
          ]
        }
      ],
      "source": [
        "preprocessor = ColumnTransformer(\n",
        "    transformers=[\n",
        "        ('cat', OneHotEncoder(handle_unknown='ignore'), categorical_col),\n",
        "        ('num', 'passthrough', numerical_col)\n",
        "    ])\n",
        "\n",
        "decisionModel = ImbPipeline(\n",
        "    steps=[\n",
        "        ('preprocessor', preprocessor),\n",
        "        ('smote', SMOTE(random_state=42)),\n",
        "        ('classifier', DecisionTreeClassifier(random_state=42))\n",
        "    ]\n",
        ")\n",
        "decisionModel.fit(train_X, train_y)\n",
        "decision_y_preds = decisionModel.predict(val_X)\n",
        "print('Accuracy', accuracy_score(val_y, decision_y_preds))"
      ]
    },
    {
      "cell_type": "code",
      "execution_count": 20,
      "metadata": {
        "id": "rOJvZZHlRpSv",
        "colab": {
          "base_uri": "https://localhost:8080/"
        },
        "outputId": "36549f2c-46fd-43d0-f7cb-c93573e6e468"
      },
      "outputs": [
        {
          "output_type": "stream",
          "name": "stdout",
          "text": [
            "Accuracy: 0.907584\n"
          ]
        }
      ],
      "source": [
        "education_order = [[\"primary\", \"secondary\", \"tertiary\", \"unknown\"]]\n",
        "\n",
        "edu_pipeline = Pipeline(steps=[\n",
        "    (\"encoder\", OrdinalEncoder(categories=education_order))\n",
        "])\n",
        "other_cats = [col for col in categorical_col if col != \"education\"]\n",
        "\n",
        "preprocessor = ColumnTransformer(\n",
        "    transformers=[\n",
        "        (\"education\", edu_pipeline, [\"education\"]),\n",
        "        (\"cat\", OneHotEncoder(handle_unknown=\"ignore\"), other_cats),\n",
        "        (\"num\", \"passthrough\", numerical_col)\n",
        "    ]\n",
        ")\n",
        "decisionModel = Pipeline(\n",
        "    steps=[\n",
        "        (\"preprocessor\", preprocessor),\n",
        "        (\"classifier\", DecisionTreeClassifier(random_state=42))\n",
        "    ]\n",
        ")\n",
        "decisionModel.fit(train_X, train_y)\n",
        "decision_y_preds = decisionModel.predict(val_X)\n",
        "print(\"Accuracy:\", accuracy_score(val_y, decision_y_preds))"
      ]
    },
    {
      "cell_type": "code",
      "execution_count": 21,
      "metadata": {
        "id": "V5jRvkjbS9B2",
        "colab": {
          "base_uri": "https://localhost:8080/"
        },
        "outputId": "d516d576-9e9c-4bfe-9463-2607198739c0"
      },
      "outputs": [
        {
          "output_type": "stream",
          "name": "stdout",
          "text": [
            "Accuracy 0.925872\n"
          ]
        }
      ],
      "source": [
        "education_order = [['primary', 'secondary', 'tertiary', 'unknown']]\n",
        "\n",
        "edu_pipeline = Pipeline(steps=[\n",
        "    ('encoder', OrdinalEncoder(categories=education_order))\n",
        "])\n",
        "other_cats = [col for col in categorical_col if col != 'education']\n",
        "\n",
        "preprocessor = ColumnTransformer(\n",
        "    transformers=[\n",
        "        ('education', edu_pipeline, ['education']),\n",
        "        ('cat', OneHotEncoder(handle_unknown='ignore'), other_cats),\n",
        "        ('num', 'passthrough', numerical_col)\n",
        "    ])\n",
        "\n",
        "decision_model = Pipeline(steps=[\n",
        "    ('preprocessor', preprocessor),\n",
        "    ('classifier', DecisionTreeClassifier(random_state=42, max_depth=14))\n",
        "])\n",
        "decision_model.fit(train_X, train_y)\n",
        "decision_y_preds = decision_model.predict(val_X)\n",
        "print('Accuracy', accuracy_score(val_y, decision_y_preds))"
      ]
    },
    {
      "cell_type": "code",
      "execution_count": 22,
      "metadata": {
        "id": "-Mo4BfNWLyED",
        "colab": {
          "base_uri": "https://localhost:8080/"
        },
        "outputId": "8d892df2-16a9-4df3-eb58-897b19e81011"
      },
      "outputs": [
        {
          "output_type": "stream",
          "name": "stdout",
          "text": [
            "Accuracy:  0.9215093333333333\n"
          ]
        }
      ],
      "source": [
        "education_order = [['primary', 'secondary', 'tertiary', 'unknown']]\n",
        "\n",
        "edu_pipeline = Pipeline(steps=[\n",
        "    ('encoder', OrdinalEncoder(categories=education_order))\n",
        "])\n",
        "other_cats = [col for col in categorical_col if col != 'education']\n",
        "\n",
        "preprocessor = ColumnTransformer(\n",
        "    transformers=[\n",
        "        ('education', edu_pipeline, ['education']),\n",
        "        ('cat', OneHotEncoder(handle_unknown='ignore'), categorical_col),\n",
        "        ('num', 'passthrough', numerical_col)\n",
        "    ])\n",
        "\n",
        "random_model = ImbPipeline(steps=[\n",
        "    ('preprocessor', preprocessor),\n",
        "    ('smote', SMOTE(random_state=42)),\n",
        "    ('classifier', RandomForestClassifier(random_state=42, max_depth=14, n_estimators=200))\n",
        "])\n",
        "random_model.fit(train_X, train_y)\n",
        "random_preds = random_model.predict(val_X)\n",
        "print(\"Accuracy: \", accuracy_score(val_y, random_preds))"
      ]
    },
    {
      "cell_type": "code",
      "source": [
        "education_order = [['primary', 'secondary', 'tertiary', 'unknown']]\n",
        "\n",
        "edu_pipeline = Pipeline(steps=[\n",
        "    ('encoder', OrdinalEncoder(categories=education_order))\n",
        "])\n",
        "other_cats = [col for col in categorical_col if col != 'education']\n",
        "\n",
        "preprocessor = ColumnTransformer(\n",
        "    transformers=[\n",
        "        ('education', edu_pipeline, ['education']),\n",
        "        ('cat', OneHotEncoder(handle_unknown='ignore'), categorical_col),\n",
        "        ('num', 'passthrough', numerical_col)\n",
        "    ])\n",
        "\n",
        "xg_model = ImbPipeline(steps=[\n",
        "    ('preprocessor', preprocessor),\n",
        "    ('smote', SMOTE(random_state=42)),\n",
        "    ('classifier', XGBClassifier(random_state=42, max_depth=8, n_estimators=200, learning_rate=0.1))\n",
        "])\n",
        "xg_model.fit(train_X, train_y)\n",
        "random_preds = xg_model.predict(val_X)\n",
        "print(\"Accuracy: \", accuracy_score(val_y, random_preds))"
      ],
      "metadata": {
        "colab": {
          "base_uri": "https://localhost:8080/"
        },
        "id": "2o-v4dmdmIX-",
        "outputId": "c39238be-8f23-40d8-b497-88a25ea7c93b"
      },
      "execution_count": 29,
      "outputs": [
        {
          "output_type": "stream",
          "name": "stdout",
          "text": [
            "Accuracy:  0.934784\n"
          ]
        }
      ]
    },
    {
      "cell_type": "code",
      "source": [
        "education_order = [['primary', 'secondary', 'tertiary', 'unknown']]\n",
        "\n",
        "edu_pipeline = Pipeline(steps=[\n",
        "    ('encoder', OrdinalEncoder(categories=education_order))\n",
        "])\n",
        "other_cats = [col for col in categorical_col if col != 'education']\n",
        "\n",
        "preprocessor = ColumnTransformer(\n",
        "    transformers=[\n",
        "        ('education', edu_pipeline, ['education']),\n",
        "        ('cat', OneHotEncoder(handle_unknown='ignore'), categorical_col),\n",
        "        ('num', 'passthrough', numerical_col)\n",
        "    ])\n",
        "\n",
        "xg_model = Pipeline(steps=[\n",
        "    ('preprocessor', preprocessor),\n",
        "    ('classifier', XGBClassifier(random_state=42, max_depth=14, n_estimators=200))\n",
        "])\n",
        "xg_model.fit(train_X, train_y)\n",
        "random_preds = xg_model.predict(val_X)\n",
        "print(\"Accuracy: \", accuracy_score(val_y, random_preds))"
      ],
      "metadata": {
        "colab": {
          "base_uri": "https://localhost:8080/"
        },
        "id": "XCtwnOUuv_pb",
        "outputId": "6d8b734a-6e78-4bb5-b732-579f9a8af518"
      },
      "execution_count": 24,
      "outputs": [
        {
          "output_type": "stream",
          "name": "stdout",
          "text": [
            "Accuracy:  0.932496\n"
          ]
        }
      ]
    },
    {
      "cell_type": "code",
      "source": [
        "education_order = [['primary', 'secondary', 'tertiary', 'unknown']]\n",
        "\n",
        "edu_pipeline = Pipeline(steps=[\n",
        "    ('encoder', OrdinalEncoder(categories=education_order))\n",
        "])\n",
        "other_cats = [col for col in categorical_col if col != 'education']\n",
        "\n",
        "preprocessor = ColumnTransformer(\n",
        "    transformers=[\n",
        "        ('education', edu_pipeline, ['education']),\n",
        "        ('cat', OneHotEncoder(handle_unknown='ignore'), categorical_col),\n",
        "        ('num', 'passthrough', numerical_col)\n",
        "    ])\n",
        "\n",
        "xg_model = ImbPipeline(steps=[\n",
        "    ('preprocessor', preprocessor),\n",
        "    ('smote', SMOTE(random_state=42)),\n",
        "    ('classifier', XGBClassifier(random_state=42))\n",
        "])\n",
        "xg_model.fit(train_X, train_y)\n",
        "random_preds = xg_model.predict(val_X)\n",
        "print(\"Accuracy: \", accuracy_score(val_y, random_preds))"
      ],
      "metadata": {
        "colab": {
          "base_uri": "https://localhost:8080/"
        },
        "id": "QD2Q4X7OxH5h",
        "outputId": "5a9b1712-2e9a-4fa5-b7a3-81092510218e"
      },
      "execution_count": 25,
      "outputs": [
        {
          "output_type": "stream",
          "name": "stdout",
          "text": [
            "Accuracy:  0.9339786666666666\n"
          ]
        }
      ]
    },
    {
      "cell_type": "code",
      "source": [],
      "metadata": {
        "id": "PyOrsdbMxKDE"
      },
      "execution_count": null,
      "outputs": []
    }
  ],
  "metadata": {
    "colab": {
      "provenance": [],
      "authorship_tag": "ABX9TyPiuFF3AIkTDFXtdiaocudN",
      "include_colab_link": true
    },
    "kernelspec": {
      "display_name": "Python 3",
      "name": "python3"
    },
    "language_info": {
      "name": "python"
    }
  },
  "nbformat": 4,
  "nbformat_minor": 0
}