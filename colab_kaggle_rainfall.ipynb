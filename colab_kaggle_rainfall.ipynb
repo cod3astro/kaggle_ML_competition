{
  "nbformat": 4,
  "nbformat_minor": 0,
  "metadata": {
    "colab": {
      "provenance": [],
      "authorship_tag": "ABX9TyPK/PqDFvggf52agVSdcz4V",
      "include_colab_link": true
    },
    "kernelspec": {
      "name": "python3",
      "display_name": "Python 3"
    },
    "language_info": {
      "name": "python"
    }
  },
  "cells": [
    {
      "cell_type": "markdown",
      "metadata": {
        "id": "view-in-github",
        "colab_type": "text"
      },
      "source": [
        "<a href=\"https://colab.research.google.com/github/cod3astro/kaggle_ML_competition/blob/main/colab_kaggle_rainfall.ipynb\" target=\"_parent\"><img src=\"https://colab.research.google.com/assets/colab-badge.svg\" alt=\"Open In Colab\"/></a>"
      ]
    },
    {
      "cell_type": "code",
      "execution_count": 1,
      "metadata": {
        "id": "7m3TtXl-9uE3"
      },
      "outputs": [],
      "source": [
        "import pandas as pd\n",
        "import numpy as np\n",
        "import matplotlib.pyplot as plt\n",
        "import seaborn as sns"
      ]
    },
    {
      "cell_type": "code",
      "source": [
        "df = pd.read_csv(\"train.csv\", index_col='id')\n",
        "df.drop(columns='day', inplace=True)\n",
        "df.head()"
      ],
      "metadata": {
        "colab": {
          "base_uri": "https://localhost:8080/",
          "height": 238
        },
        "id": "vwmDgLi3-B8j",
        "outputId": "27b80473-b540-467d-88d2-b2bd8090edf8"
      },
      "execution_count": 2,
      "outputs": [
        {
          "output_type": "execute_result",
          "data": {
            "text/plain": [
              "    pressure  maxtemp  temparature  mintemp  dewpoint  humidity  cloud  \\\n",
              "id                                                                       \n",
              "0     1017.4     21.2         20.6     19.9      19.4      87.0   88.0   \n",
              "1     1019.5     16.2         16.9     15.8      15.4      95.0   91.0   \n",
              "2     1024.1     19.4         16.1     14.6       9.3      75.0   47.0   \n",
              "3     1013.4     18.1         17.8     16.9      16.8      95.0   95.0   \n",
              "4     1021.8     21.3         18.4     15.2       9.6      52.0   45.0   \n",
              "\n",
              "    sunshine  winddirection  windspeed  rainfall  \n",
              "id                                                \n",
              "0        1.1           60.0       17.2         1  \n",
              "1        0.0           50.0       21.9         1  \n",
              "2        8.3           70.0       18.1         1  \n",
              "3        0.0           60.0       35.6         1  \n",
              "4        3.6           40.0       24.8         0  "
            ],
            "text/html": [
              "\n",
              "  <div id=\"df-dec8c36d-aed2-48eb-95fa-0ba8d3718ca6\" class=\"colab-df-container\">\n",
              "    <div>\n",
              "<style scoped>\n",
              "    .dataframe tbody tr th:only-of-type {\n",
              "        vertical-align: middle;\n",
              "    }\n",
              "\n",
              "    .dataframe tbody tr th {\n",
              "        vertical-align: top;\n",
              "    }\n",
              "\n",
              "    .dataframe thead th {\n",
              "        text-align: right;\n",
              "    }\n",
              "</style>\n",
              "<table border=\"1\" class=\"dataframe\">\n",
              "  <thead>\n",
              "    <tr style=\"text-align: right;\">\n",
              "      <th></th>\n",
              "      <th>pressure</th>\n",
              "      <th>maxtemp</th>\n",
              "      <th>temparature</th>\n",
              "      <th>mintemp</th>\n",
              "      <th>dewpoint</th>\n",
              "      <th>humidity</th>\n",
              "      <th>cloud</th>\n",
              "      <th>sunshine</th>\n",
              "      <th>winddirection</th>\n",
              "      <th>windspeed</th>\n",
              "      <th>rainfall</th>\n",
              "    </tr>\n",
              "    <tr>\n",
              "      <th>id</th>\n",
              "      <th></th>\n",
              "      <th></th>\n",
              "      <th></th>\n",
              "      <th></th>\n",
              "      <th></th>\n",
              "      <th></th>\n",
              "      <th></th>\n",
              "      <th></th>\n",
              "      <th></th>\n",
              "      <th></th>\n",
              "      <th></th>\n",
              "    </tr>\n",
              "  </thead>\n",
              "  <tbody>\n",
              "    <tr>\n",
              "      <th>0</th>\n",
              "      <td>1017.4</td>\n",
              "      <td>21.2</td>\n",
              "      <td>20.6</td>\n",
              "      <td>19.9</td>\n",
              "      <td>19.4</td>\n",
              "      <td>87.0</td>\n",
              "      <td>88.0</td>\n",
              "      <td>1.1</td>\n",
              "      <td>60.0</td>\n",
              "      <td>17.2</td>\n",
              "      <td>1</td>\n",
              "    </tr>\n",
              "    <tr>\n",
              "      <th>1</th>\n",
              "      <td>1019.5</td>\n",
              "      <td>16.2</td>\n",
              "      <td>16.9</td>\n",
              "      <td>15.8</td>\n",
              "      <td>15.4</td>\n",
              "      <td>95.0</td>\n",
              "      <td>91.0</td>\n",
              "      <td>0.0</td>\n",
              "      <td>50.0</td>\n",
              "      <td>21.9</td>\n",
              "      <td>1</td>\n",
              "    </tr>\n",
              "    <tr>\n",
              "      <th>2</th>\n",
              "      <td>1024.1</td>\n",
              "      <td>19.4</td>\n",
              "      <td>16.1</td>\n",
              "      <td>14.6</td>\n",
              "      <td>9.3</td>\n",
              "      <td>75.0</td>\n",
              "      <td>47.0</td>\n",
              "      <td>8.3</td>\n",
              "      <td>70.0</td>\n",
              "      <td>18.1</td>\n",
              "      <td>1</td>\n",
              "    </tr>\n",
              "    <tr>\n",
              "      <th>3</th>\n",
              "      <td>1013.4</td>\n",
              "      <td>18.1</td>\n",
              "      <td>17.8</td>\n",
              "      <td>16.9</td>\n",
              "      <td>16.8</td>\n",
              "      <td>95.0</td>\n",
              "      <td>95.0</td>\n",
              "      <td>0.0</td>\n",
              "      <td>60.0</td>\n",
              "      <td>35.6</td>\n",
              "      <td>1</td>\n",
              "    </tr>\n",
              "    <tr>\n",
              "      <th>4</th>\n",
              "      <td>1021.8</td>\n",
              "      <td>21.3</td>\n",
              "      <td>18.4</td>\n",
              "      <td>15.2</td>\n",
              "      <td>9.6</td>\n",
              "      <td>52.0</td>\n",
              "      <td>45.0</td>\n",
              "      <td>3.6</td>\n",
              "      <td>40.0</td>\n",
              "      <td>24.8</td>\n",
              "      <td>0</td>\n",
              "    </tr>\n",
              "  </tbody>\n",
              "</table>\n",
              "</div>\n",
              "    <div class=\"colab-df-buttons\">\n",
              "\n",
              "  <div class=\"colab-df-container\">\n",
              "    <button class=\"colab-df-convert\" onclick=\"convertToInteractive('df-dec8c36d-aed2-48eb-95fa-0ba8d3718ca6')\"\n",
              "            title=\"Convert this dataframe to an interactive table.\"\n",
              "            style=\"display:none;\">\n",
              "\n",
              "  <svg xmlns=\"http://www.w3.org/2000/svg\" height=\"24px\" viewBox=\"0 -960 960 960\">\n",
              "    <path d=\"M120-120v-720h720v720H120Zm60-500h600v-160H180v160Zm220 220h160v-160H400v160Zm0 220h160v-160H400v160ZM180-400h160v-160H180v160Zm440 0h160v-160H620v160ZM180-180h160v-160H180v160Zm440 0h160v-160H620v160Z\"/>\n",
              "  </svg>\n",
              "    </button>\n",
              "\n",
              "  <style>\n",
              "    .colab-df-container {\n",
              "      display:flex;\n",
              "      gap: 12px;\n",
              "    }\n",
              "\n",
              "    .colab-df-convert {\n",
              "      background-color: #E8F0FE;\n",
              "      border: none;\n",
              "      border-radius: 50%;\n",
              "      cursor: pointer;\n",
              "      display: none;\n",
              "      fill: #1967D2;\n",
              "      height: 32px;\n",
              "      padding: 0 0 0 0;\n",
              "      width: 32px;\n",
              "    }\n",
              "\n",
              "    .colab-df-convert:hover {\n",
              "      background-color: #E2EBFA;\n",
              "      box-shadow: 0px 1px 2px rgba(60, 64, 67, 0.3), 0px 1px 3px 1px rgba(60, 64, 67, 0.15);\n",
              "      fill: #174EA6;\n",
              "    }\n",
              "\n",
              "    .colab-df-buttons div {\n",
              "      margin-bottom: 4px;\n",
              "    }\n",
              "\n",
              "    [theme=dark] .colab-df-convert {\n",
              "      background-color: #3B4455;\n",
              "      fill: #D2E3FC;\n",
              "    }\n",
              "\n",
              "    [theme=dark] .colab-df-convert:hover {\n",
              "      background-color: #434B5C;\n",
              "      box-shadow: 0px 1px 3px 1px rgba(0, 0, 0, 0.15);\n",
              "      filter: drop-shadow(0px 1px 2px rgba(0, 0, 0, 0.3));\n",
              "      fill: #FFFFFF;\n",
              "    }\n",
              "  </style>\n",
              "\n",
              "    <script>\n",
              "      const buttonEl =\n",
              "        document.querySelector('#df-dec8c36d-aed2-48eb-95fa-0ba8d3718ca6 button.colab-df-convert');\n",
              "      buttonEl.style.display =\n",
              "        google.colab.kernel.accessAllowed ? 'block' : 'none';\n",
              "\n",
              "      async function convertToInteractive(key) {\n",
              "        const element = document.querySelector('#df-dec8c36d-aed2-48eb-95fa-0ba8d3718ca6');\n",
              "        const dataTable =\n",
              "          await google.colab.kernel.invokeFunction('convertToInteractive',\n",
              "                                                    [key], {});\n",
              "        if (!dataTable) return;\n",
              "\n",
              "        const docLinkHtml = 'Like what you see? Visit the ' +\n",
              "          '<a target=\"_blank\" href=https://colab.research.google.com/notebooks/data_table.ipynb>data table notebook</a>'\n",
              "          + ' to learn more about interactive tables.';\n",
              "        element.innerHTML = '';\n",
              "        dataTable['output_type'] = 'display_data';\n",
              "        await google.colab.output.renderOutput(dataTable, element);\n",
              "        const docLink = document.createElement('div');\n",
              "        docLink.innerHTML = docLinkHtml;\n",
              "        element.appendChild(docLink);\n",
              "      }\n",
              "    </script>\n",
              "  </div>\n",
              "\n",
              "\n",
              "    <div id=\"df-51529559-c30f-4224-8d5f-695045b1c9bd\">\n",
              "      <button class=\"colab-df-quickchart\" onclick=\"quickchart('df-51529559-c30f-4224-8d5f-695045b1c9bd')\"\n",
              "                title=\"Suggest charts\"\n",
              "                style=\"display:none;\">\n",
              "\n",
              "<svg xmlns=\"http://www.w3.org/2000/svg\" height=\"24px\"viewBox=\"0 0 24 24\"\n",
              "     width=\"24px\">\n",
              "    <g>\n",
              "        <path d=\"M19 3H5c-1.1 0-2 .9-2 2v14c0 1.1.9 2 2 2h14c1.1 0 2-.9 2-2V5c0-1.1-.9-2-2-2zM9 17H7v-7h2v7zm4 0h-2V7h2v10zm4 0h-2v-4h2v4z\"/>\n",
              "    </g>\n",
              "</svg>\n",
              "      </button>\n",
              "\n",
              "<style>\n",
              "  .colab-df-quickchart {\n",
              "      --bg-color: #E8F0FE;\n",
              "      --fill-color: #1967D2;\n",
              "      --hover-bg-color: #E2EBFA;\n",
              "      --hover-fill-color: #174EA6;\n",
              "      --disabled-fill-color: #AAA;\n",
              "      --disabled-bg-color: #DDD;\n",
              "  }\n",
              "\n",
              "  [theme=dark] .colab-df-quickchart {\n",
              "      --bg-color: #3B4455;\n",
              "      --fill-color: #D2E3FC;\n",
              "      --hover-bg-color: #434B5C;\n",
              "      --hover-fill-color: #FFFFFF;\n",
              "      --disabled-bg-color: #3B4455;\n",
              "      --disabled-fill-color: #666;\n",
              "  }\n",
              "\n",
              "  .colab-df-quickchart {\n",
              "    background-color: var(--bg-color);\n",
              "    border: none;\n",
              "    border-radius: 50%;\n",
              "    cursor: pointer;\n",
              "    display: none;\n",
              "    fill: var(--fill-color);\n",
              "    height: 32px;\n",
              "    padding: 0;\n",
              "    width: 32px;\n",
              "  }\n",
              "\n",
              "  .colab-df-quickchart:hover {\n",
              "    background-color: var(--hover-bg-color);\n",
              "    box-shadow: 0 1px 2px rgba(60, 64, 67, 0.3), 0 1px 3px 1px rgba(60, 64, 67, 0.15);\n",
              "    fill: var(--button-hover-fill-color);\n",
              "  }\n",
              "\n",
              "  .colab-df-quickchart-complete:disabled,\n",
              "  .colab-df-quickchart-complete:disabled:hover {\n",
              "    background-color: var(--disabled-bg-color);\n",
              "    fill: var(--disabled-fill-color);\n",
              "    box-shadow: none;\n",
              "  }\n",
              "\n",
              "  .colab-df-spinner {\n",
              "    border: 2px solid var(--fill-color);\n",
              "    border-color: transparent;\n",
              "    border-bottom-color: var(--fill-color);\n",
              "    animation:\n",
              "      spin 1s steps(1) infinite;\n",
              "  }\n",
              "\n",
              "  @keyframes spin {\n",
              "    0% {\n",
              "      border-color: transparent;\n",
              "      border-bottom-color: var(--fill-color);\n",
              "      border-left-color: var(--fill-color);\n",
              "    }\n",
              "    20% {\n",
              "      border-color: transparent;\n",
              "      border-left-color: var(--fill-color);\n",
              "      border-top-color: var(--fill-color);\n",
              "    }\n",
              "    30% {\n",
              "      border-color: transparent;\n",
              "      border-left-color: var(--fill-color);\n",
              "      border-top-color: var(--fill-color);\n",
              "      border-right-color: var(--fill-color);\n",
              "    }\n",
              "    40% {\n",
              "      border-color: transparent;\n",
              "      border-right-color: var(--fill-color);\n",
              "      border-top-color: var(--fill-color);\n",
              "    }\n",
              "    60% {\n",
              "      border-color: transparent;\n",
              "      border-right-color: var(--fill-color);\n",
              "    }\n",
              "    80% {\n",
              "      border-color: transparent;\n",
              "      border-right-color: var(--fill-color);\n",
              "      border-bottom-color: var(--fill-color);\n",
              "    }\n",
              "    90% {\n",
              "      border-color: transparent;\n",
              "      border-bottom-color: var(--fill-color);\n",
              "    }\n",
              "  }\n",
              "</style>\n",
              "\n",
              "      <script>\n",
              "        async function quickchart(key) {\n",
              "          const quickchartButtonEl =\n",
              "            document.querySelector('#' + key + ' button');\n",
              "          quickchartButtonEl.disabled = true;  // To prevent multiple clicks.\n",
              "          quickchartButtonEl.classList.add('colab-df-spinner');\n",
              "          try {\n",
              "            const charts = await google.colab.kernel.invokeFunction(\n",
              "                'suggestCharts', [key], {});\n",
              "          } catch (error) {\n",
              "            console.error('Error during call to suggestCharts:', error);\n",
              "          }\n",
              "          quickchartButtonEl.classList.remove('colab-df-spinner');\n",
              "          quickchartButtonEl.classList.add('colab-df-quickchart-complete');\n",
              "        }\n",
              "        (() => {\n",
              "          let quickchartButtonEl =\n",
              "            document.querySelector('#df-51529559-c30f-4224-8d5f-695045b1c9bd button');\n",
              "          quickchartButtonEl.style.display =\n",
              "            google.colab.kernel.accessAllowed ? 'block' : 'none';\n",
              "        })();\n",
              "      </script>\n",
              "    </div>\n",
              "\n",
              "    </div>\n",
              "  </div>\n"
            ],
            "application/vnd.google.colaboratory.intrinsic+json": {
              "type": "dataframe",
              "variable_name": "df",
              "summary": "{\n  \"name\": \"df\",\n  \"rows\": 2190,\n  \"fields\": [\n    {\n      \"column\": \"id\",\n      \"properties\": {\n        \"dtype\": \"number\",\n        \"std\": 632,\n        \"min\": 0,\n        \"max\": 2189,\n        \"num_unique_values\": 2190,\n        \"samples\": [\n          289,\n          1692,\n          1590\n        ],\n        \"semantic_type\": \"\",\n        \"description\": \"\"\n      }\n    },\n    {\n      \"column\": \"pressure\",\n      \"properties\": {\n        \"dtype\": \"number\",\n        \"std\": 5.65536570181064,\n        \"min\": 999.0,\n        \"max\": 1034.6,\n        \"num_unique_values\": 236,\n        \"samples\": [\n          1007.9,\n          1006.0,\n          1020.1\n        ],\n        \"semantic_type\": \"\",\n        \"description\": \"\"\n      }\n    },\n    {\n      \"column\": \"maxtemp\",\n      \"properties\": {\n        \"dtype\": \"number\",\n        \"std\": 5.65433037282907,\n        \"min\": 10.4,\n        \"max\": 36.0,\n        \"num_unique_values\": 219,\n        \"samples\": [\n          16.6,\n          30.4,\n          19.1\n        ],\n        \"semantic_type\": \"\",\n        \"description\": \"\"\n      }\n    },\n    {\n      \"column\": \"temparature\",\n      \"properties\": {\n        \"dtype\": \"number\",\n        \"std\": 5.222409915707127,\n        \"min\": 7.4,\n        \"max\": 31.5,\n        \"num_unique_values\": 198,\n        \"samples\": [\n          23.9,\n          27.0,\n          14.2\n        ],\n        \"semantic_type\": \"\",\n        \"description\": \"\"\n      }\n    },\n    {\n      \"column\": \"mintemp\",\n      \"properties\": {\n        \"dtype\": \"number\",\n        \"std\": 5.059120146507682,\n        \"min\": 4.0,\n        \"max\": 29.8,\n        \"num_unique_values\": 199,\n        \"samples\": [\n          27.4,\n          10.0,\n          20.5\n        ],\n        \"semantic_type\": \"\",\n        \"description\": \"\"\n      }\n    },\n    {\n      \"column\": \"dewpoint\",\n      \"properties\": {\n        \"dtype\": \"number\",\n        \"std\": 5.288406229360001,\n        \"min\": -0.3,\n        \"max\": 26.7,\n        \"num_unique_values\": 218,\n        \"samples\": [\n          23.8,\n          -0.3,\n          9.7\n        ],\n        \"semantic_type\": \"\",\n        \"description\": \"\"\n      }\n    },\n    {\n      \"column\": \"humidity\",\n      \"properties\": {\n        \"dtype\": \"number\",\n        \"std\": 7.80065352082885,\n        \"min\": 39.0,\n        \"max\": 98.0,\n        \"num_unique_values\": 49,\n        \"samples\": [\n          92.0,\n          66.0,\n          46.0\n        ],\n        \"semantic_type\": \"\",\n        \"description\": \"\"\n      }\n    },\n    {\n      \"column\": \"cloud\",\n      \"properties\": {\n        \"dtype\": \"number\",\n        \"std\": 18.02649752559538,\n        \"min\": 2.0,\n        \"max\": 100.0,\n        \"num_unique_values\": 78,\n        \"samples\": [\n          61.0,\n          88.0,\n          87.0\n        ],\n        \"semantic_type\": \"\",\n        \"description\": \"\"\n      }\n    },\n    {\n      \"column\": \"sunshine\",\n      \"properties\": {\n        \"dtype\": \"number\",\n        \"std\": 3.6263266998692267,\n        \"min\": 0.0,\n        \"max\": 12.1,\n        \"num_unique_values\": 120,\n        \"samples\": [\n          3.9,\n          2.0,\n          7.6\n        ],\n        \"semantic_type\": \"\",\n        \"description\": \"\"\n      }\n    },\n    {\n      \"column\": \"winddirection\",\n      \"properties\": {\n        \"dtype\": \"number\",\n        \"std\": 80.00241566778931,\n        \"min\": 10.0,\n        \"max\": 300.0,\n        \"num_unique_values\": 35,\n        \"samples\": [\n          300.0,\n          230.0,\n          280.0\n        ],\n        \"semantic_type\": \"\",\n        \"description\": \"\"\n      }\n    },\n    {\n      \"column\": \"windspeed\",\n      \"properties\": {\n        \"dtype\": \"number\",\n        \"std\": 9.898658757959193,\n        \"min\": 4.4,\n        \"max\": 59.5,\n        \"num_unique_values\": 223,\n        \"samples\": [\n          38.3,\n          15.3,\n          17.3\n        ],\n        \"semantic_type\": \"\",\n        \"description\": \"\"\n      }\n    },\n    {\n      \"column\": \"rainfall\",\n      \"properties\": {\n        \"dtype\": \"number\",\n        \"std\": 0,\n        \"min\": 0,\n        \"max\": 1,\n        \"num_unique_values\": 2,\n        \"samples\": [\n          0,\n          1\n        ],\n        \"semantic_type\": \"\",\n        \"description\": \"\"\n      }\n    }\n  ]\n}"
            }
          },
          "metadata": {},
          "execution_count": 2
        }
      ]
    },
    {
      "cell_type": "code",
      "source": [
        "df.columns"
      ],
      "metadata": {
        "colab": {
          "base_uri": "https://localhost:8080/"
        },
        "id": "5GfB80oo-gGO",
        "outputId": "57403bbe-c9b6-4624-a384-41d69c30eca8"
      },
      "execution_count": 3,
      "outputs": [
        {
          "output_type": "execute_result",
          "data": {
            "text/plain": [
              "Index(['pressure', 'maxtemp', 'temparature', 'mintemp', 'dewpoint', 'humidity',\n",
              "       'cloud', 'sunshine', 'winddirection', 'windspeed', 'rainfall'],\n",
              "      dtype='object')"
            ]
          },
          "metadata": {},
          "execution_count": 3
        }
      ]
    },
    {
      "cell_type": "code",
      "source": [
        "for col in df.columns:\n",
        "  unique_values = df[col].unique()\n",
        "  print(f\"{col} ({len(unique_values)} unique)\")\n",
        "  print(unique_values)"
      ],
      "metadata": {
        "colab": {
          "base_uri": "https://localhost:8080/"
        },
        "id": "hgBeYrhT-oGt",
        "outputId": "9aff10e7-0cbd-48e1-c3ef-d616c07faf1f"
      },
      "execution_count": 4,
      "outputs": [
        {
          "output_type": "stream",
          "name": "stdout",
          "text": [
            "pressure (236 unique)\n",
            "[1017.4 1019.5 1024.1 1013.4 1021.8 1022.7 1022.8 1019.7 1025.4 1016.8\n",
            " 1012.5 1020.4 1018.4 1024.3 1022.5 1034.6 1020.2 1022.4 1022.6 1020.6\n",
            " 1013.  1017.  1019.9 1018.1 1018.5 1024.4 1023.1 1014.4 1018.9 1017.1\n",
            " 1015.8 1013.1 1015.2 1016.9 1016.5 1023.6 1016.3 1019.6 1018.8 1012.\n",
            " 1013.3 1017.7 1017.9 1019.4 1020.3 1014.2 1015.  1014.6 1021.4 1015.6\n",
            " 1014.  1013.5 1011.4 1019.8 1011.  1010.7 1008.1 1012.2 1010.1 1016.\n",
            " 1009.2 1008.6 1008.3 1008.9 1010.3 1010.9 1009.8 1008.8 1011.1 1007.9\n",
            " 1006.8 1005.9 1009.5 1011.2 1008.7 1012.4 1009.3 1006.6 1008.5 1008.4\n",
            " 1008.  1007.6 1009.1 1005.2 1005.6 1006.4 1009.4 1007.5 1006.9 1009.9\n",
            " 1007.2 1002.5 1006.3 1003.8 1002.8 1010.6 1006.7 1005.4 1006.5 1001.\n",
            " 1004.8 1004.2 1010.5 1007.8 1011.6 1007.3 1013.6 1014.8 1013.7 1007.1\n",
            " 1005.8 1005.7 1007.7 1008.2 1010.2 1015.1 1013.2 1004.9 1017.8 1016.4\n",
            " 1018.  1014.1 1017.3 1014.9 1014.7 1016.1 1016.7 1015.3 1017.5 1014.5\n",
            " 1020.8 1018.6 1018.7 1022.9 1024.7 1021.1 1023.8 1021.2 1019.3 1020.7\n",
            " 1022.  1019.  1014.3 1022.2 1025.6 1021.3 1026.4 1023.2 1025.3 1027.4\n",
            " 1012.7 1015.4 1017.6 1019.2 1010.4 1016.2 1011.5 1013.9 1011.7 1012.3\n",
            " 1006.1 1009.6 1005.1 1003.2 1000.2 1005.3 1003.5 1007.  1010.8 1005.5\n",
            " 1015.7 1015.5 1012.9 1018.2 1016.6 1012.6 1021.6 1020.  1019.1 1015.9\n",
            " 1020.9 1020.1 1023.4 1022.3 1023.9 1024.  1027.1 1021.5 1026.5 1011.3\n",
            " 1006.  1006.2 1004.5 1002.2 1000.1 1000.3 1004.3  999.  1005.  1024.2\n",
            " 1024.9 1017.2 1025.9 1022.1 1020.5 1027.2 1023.7 1027.9 1024.6 1024.5\n",
            " 1013.8 1012.1 1010.  1000.7 1009.7 1003.4 1000.  1007.4 1001.4 1012.8\n",
            " 1011.9 1021.9 1023.3 1027.8 1026.9 1025.8 1025.2 1023.5  999.6 1001.5\n",
            " 1018.3 1024.8 1032.3 1027.6 1027.5 1011.8]\n",
            "maxtemp (219 unique)\n",
            "[21.2 16.2 19.4 18.1 21.3 20.6 19.5 15.8 17.6 16.5 16.3 15.  13.5 17.8\n",
            " 15.3 17.5 16.8 16.4 17.7 21.9 18.5 24.8 23.8 25.3 21.7 22.9 23.1 23.2\n",
            " 21.6 21.5 18.2 21.1 20.4 23.4 21.4 18.9 16.1 18.8 17.2 22.3 18.4 22.5\n",
            " 20.9 25.9 22.4 14.3 25.1 25.2 23.  26.3 26.1 24.9 26.9 27.6 26.5 24.2\n",
            " 28.1 27.2 27.8 27.1 28.2 26.2 26.8 29.1 28.6 29.6 30.2 28.9 28.  31.2\n",
            " 30.6 28.7 31.  29.7 25.8 27.3 29.2 30.9 29.8 26.4 27.9 30.7 30.1 31.6\n",
            " 31.4 31.3 33.  32.3 32.  32.2 32.6 32.8 32.7 30.4 31.5 32.1 33.3 34.\n",
            " 34.4 33.2 31.9 32.9 34.7 31.7 30.8 33.5 33.1 33.7 35.2 29.  31.1 30.3\n",
            " 32.4 33.9 32.5 34.1 31.8 29.4 29.3 28.4 28.8 24.5 27.4 26.  29.9 23.3\n",
            " 20.5 26.7 22.1 19.2 19.  24.7 19.3 20.1 17.3 24.3 21.  21.8 18.7 18.3\n",
            " 17.1 20.8 12.1 15.9 14.4 16.7 15.5 17.4 11.2 12.9 18.6 19.6 19.9 15.2\n",
            " 16.6 25.4 20.3 27.7 24.6 28.3 25.6 33.8 30.  35.4 35.3 33.6 33.4 36.\n",
            " 35.8 28.5 25.5 26.6 25.  29.5 22.8 22.2 18.  15.7 11.3 15.4 17.  12.5\n",
            " 19.8 22.7 14.5 15.1 19.7 20.7 23.6 24.  23.5 24.4 23.9 27.  30.5 35.1\n",
            " 34.8 25.7 27.5 23.7 16.9 15.6 14.8 20.2 14.6 10.9 14.7 34.2 35.  35.6\n",
            " 22.  10.8 10.4 13.3 12.2 11.6 19.1 22.6 24.1]\n",
            "temparature (198 unique)\n",
            "[20.6 16.9 16.1 17.8 18.4 18.6 13.6 16.5 14.4 15.3 15.2 15.5 12.9 13.1\n",
            " 16.2 15.8 14.2 16.4 17.3 19.9 22.2 22.3 21.1 20.3 20.9 20.8 22.1 18.8\n",
            " 19.3 17.1 21.4 18.2 21.7 19.4 17.7 19.2 19.5 16.  15.6 20.1 18.1 19.7\n",
            " 21.6 21.9 20.5 15.9 19.6 12.8 15.7 18.  20.  21.8 23.3 23.2 23.1 25.3\n",
            " 24.8 25.4 24.9 23.  25.1 25.8 25.9 24.5 24.1 23.9 24.4 26.7 26.6 23.4\n",
            " 26.8 26.5 26.9 27.8 28.  25.5 28.1 28.7 24.  28.6 23.7 27.4 27.1 27.9\n",
            " 28.9 28.2 28.8 30.1 30.2 29.4 29.  29.6 29.7 29.9 30.  28.3 29.8 30.6\n",
            " 30.8 29.3 29.1 30.7 29.5 29.2 28.4 30.3 30.4 30.5 27.2 27.7 26.1 27.6\n",
            " 26.  27.5 27.  26.2 25.6 26.4 21.3 25.  25.7 24.3 24.7 26.3 24.6 18.9\n",
            " 20.4 22.5 17.  14.8 13.7 13.3 17.2 17.6 14.6 16.3 17.9 18.3 13.8 11.3\n",
            " 12.4 12.6 10.4  8.3 16.6 21.2 22.4 17.4 22.8 20.2 18.7 13.4 19.1 21.5\n",
            " 15.  22.9 23.5 25.2 31.  27.3 31.1 28.5 23.8 24.2 20.7 22.  13.2 14.7\n",
            " 17.5 15.4 13.9 18.5 19.  11.4 13.5  8.5 16.8 31.4 30.9 22.6 19.8 12.5\n",
            " 14.1 16.7  8.6 10.1 13.  15.1 21.  31.5 31.3 14.9  7.4  8.9 11.6 12.1\n",
            " 10.2  8.7]\n",
            "mintemp (199 unique)\n",
            "[19.9 15.8 14.6 16.9 15.2 16.5 15.3 12.7 15.6 12.  14.1 14.  13.2 11.6\n",
            " 15.1 10.  11.4 14.8 17.1 20.4 21.  19.8 19.4 19.2 19.3 20.1 17.3 17.4\n",
            " 18.6 16.3 20.  17.8 17.2 19.6 13.6 14.2 17.5 17.6 12.8 18.2 16.  19.1\n",
            " 17.  20.3 13.5 18.4 19.  20.6 21.5 22.3 22.4 24.2 23.3 24.  23.  21.4\n",
            " 23.8 23.4 23.7 22.9 22.  22.2 23.6 25.3 25.4 22.8 24.3 24.8 25.2 24.7\n",
            " 24.4 26.8 26.3 23.9 26.9 26.4 25.5 23.2 26.2 26.1 28.  27.3 27.4 27.6\n",
            " 27.  28.7 26.7 28.4 27.5 25.8 28.8 27.1 28.5 29.  27.8 27.2 26.6 26.5\n",
            " 28.1 28.3 28.2 28.6 24.9 25.7 24.5 25.1 26.  25.  25.9 27.9 25.6 20.5\n",
            " 22.7 20.8 21.2 22.5 24.1 21.6 23.1 22.1 23.5 19.7 18.9 20.2 18.7 16.4\n",
            " 12.4 11.3 12.9 14.4 16.6 16.1 15.7 17.9 11.2 10.8  9.6 10.3 11.8 11.5\n",
            " 12.6  9.4  7.   7.5 15.5 20.9 14.7 15.4 16.8 11.7 15.9 14.9 21.1 28.9\n",
            " 29.2 22.6 18.8 18.5 17.7 18.  18.3 13.4 12.3 11.9 13.7 14.5 13.8 10.4\n",
            " 11.1  4.7 14.3 10.5 15.  19.5 21.3 21.8 27.7 29.8 24.6 18.1 16.2 13.3\n",
            " 12.2  4.   7.7 20.7  8.1  9.8 10.6  8.8 13.1 10.1 16.7 21.7 29.3 29.1\n",
            " 13.9 10.9 12.5]\n",
            "dewpoint (218 unique)\n",
            "[19.4 15.4  9.3 16.8  9.6 12.5 11.3 11.8  8.6 14.  12.4 12.  12.1 11.2\n",
            "  2.  12.9 11.6 14.3 18.1 20.8 20.6 19.6 17.9 17.3 15.5 15.3 18.8 13.6\n",
            " 17.   9.5 17.8 16.9 15.  19.  11.4 14.6 12.2 17.6 18.5 16.3 16.4 18.9\n",
            " 14.9  9.9 17.4  8.  12.6 16.6 19.5  8.9 19.9 20.1 21.1 22.8 21.9 13.7\n",
            " 22.1 22.3 22.  22.6 21.6 22.9 20.4 19.8 23.1 24.2 23.7 21.2 19.7 23.2\n",
            " 23.4 24.8 25.2 22.7 25.  25.1 25.3 24.3 24.9 19.3 24.  23.3 21.7 25.6\n",
            " 25.4 20.7 25.9 26.  25.7 26.7 25.8 25.5 24.7 24.5 26.1 26.2 26.4 24.1\n",
            " 26.3 26.6 23.8 22.2 23.5 23.6 24.4 18.6 21.4 23.  20.9 20.3 16.7 20.5\n",
            " 13.5 15.8 19.1 18.4 18.3 16.  12.8 12.3  8.5  6.6 11.1 16.5  7.9  8.1\n",
            "  9.8 15.1 13.2 17.7 14.7 18.  15.9 13.8  4.8  2.7  7.7 10.  15.7  9.7\n",
            " 10.9 11.   3.4  4.4 13.  13.3 17.2  8.3  2.3 10.5 14.8 18.7 22.4 23.9\n",
            " 21.3 22.5 24.6 21.5 20.  20.2 21.8 17.1 16.1  8.4  6.2  3.8 11.9 12.7\n",
            " 15.6 13.9 18.2 11.7 10.1  7.2 19.2  4.3  6.4 14.4  9.4 14.5  8.2  9.2\n",
            " 13.4 26.5  0.2 10.6 16.2  7.8 10.3  6.8 10.4  1.   4.  13.1  9.1 21.\n",
            " 17.5 15.2  7.4  2.5 11.5  2.2  4.6  8.7  3.1  3.2  1.1  3.7 14.1 14.2\n",
            "  1.7  2.4  6.  10.7  3.9 -0.3  3.5  8.8]\n",
            "humidity (49 unique)\n",
            "[87. 95. 75. 52. 79. 56. 96. 86. 77. 97. 98. 68. 76. 92. 90. 84. 80. 74.\n",
            " 82. 91. 78. 88. 83. 72. 93. 69. 63. 59. 89. 85. 81. 73. 70. 67. 65. 94.\n",
            " 47. 61. 71. 58. 62. 49. 54. 64. 39. 66. 60. 46. 45.]\n",
            "cloud (78 unique)\n",
            "[ 88.  91.  47.  95.  45.  81.  46. 100.  84.  86.  92.  85.  70.  60.\n",
            "  77.  93.  49.  78.  80.  79.  69.  56.  89.  44.  43.  90.  83.  40.\n",
            "  71.  82.  72.  54.  51.  61.  87.  64.  75.  68.  59.  74.  28.  57.\n",
            "  53.  38.  23.  29.  67.  63.  73.  41.  50.  58.  62.  66.  21.  65.\n",
            "  94.  17.  55.  48.  97.  96.  19.  99.  20.  25.  30.  35.  32.  76.\n",
            "  11.  39.  33.   7.  22.  27.   2.  34.]\n",
            "sunshine (120 unique)\n",
            "[ 1.1  0.   8.3  3.6  7.6  1.   1.2  0.3  6.8  2.5  0.1  0.4  9.1 10.2\n",
            "  2.6  0.6  7.7  2.9  4.3  9.5  9.2  2.3  4.1  8.8  2.2  6.1  1.6  7.8\n",
            "  7.2 10.8 11.   3.4  1.4  0.5  3.7  3.2  0.2  4.4  5.9  2.1  4.8  0.7\n",
            "  0.9  2.4  3.9  3.5  4.5  2.   3.   1.3  6.3  3.3 10.   7.5  7.  11.1\n",
            "  6.9 11.9 10.7  9.8 10.4 11.4  6.7  4.6  5.7  8.9  1.5  6.6  9.4 10.6\n",
            "  2.7 10.1  7.1  6.4 10.9 11.2  8.2  5.5  3.8  5.   9.3  6.   5.8  9.9\n",
            "  8.   8.4  3.1  1.8  6.2  8.5  8.6  5.3  6.5  0.8  4.9  5.1  7.9  5.2\n",
            "  4.7  1.9  7.4 11.5 10.5  8.7  9.   9.6  9.7  1.7  8.1 10.3  2.8  5.6\n",
            " 11.8  5.4 12.1  7.3  4.2  4.  12.  11.7]\n",
            "winddirection (35 unique)\n",
            "[ 60.   50.   70.   40.   20.   30.   80.   90.  220.  100.  290.  170.\n",
            " 200.  230.  240.  130.  270.  120.  190.  210.  110.  160.   10.  180.\n",
            " 280.  250.  300.  260.   25.   75.  150.  140.   15.  250.3  65. ]\n",
            "windspeed (223 unique)\n",
            "[17.2 21.9 18.1 35.6 24.8 15.7 28.4 52.8 37.5 38.3 24.4 23.5 32.4 37.\n",
            " 20.9 20.  30.3 13.4 20.5 41.3 10.2 39.5 30.4 30.2 15.9 14.5 21.4 14.3\n",
            " 35.1 21.3 35.3 18.4 26.7 11.9 28.8 29.6 19.  20.8 34.2 27.3 33.4 10.7\n",
            "  6.9 16.5  9.8  9.9 13.8 25.  16.1 25.1 24.5 27.4 22.9 24.9  7.4  8.9\n",
            " 26.  28.  31.2 26.1 15.4 18.6 16.  17.5 32.5 19.6 31.8 28.5 12.  14.7\n",
            " 21.2 18.2 24.  23.7 15.1 12.4 18.8  9.2 23.3 15.8 14.2 14.  39.3 22.5\n",
            " 15.3 21.8 19.2 19.3 26.4 16.4 34.   9.4 14.1 10.9  8.3  7.9 12.6 40.8\n",
            " 11.1 29.2 13.9 31.9  9.1 27.9 26.3 16.9 19.8 16.3 10.  18.   8.6  6.6\n",
            " 13.6 12.8 25.5 11.2 11.3 17.3 23.2 20.3 13.2  7.3 11.  11.7 13.3 29.\n",
            " 12.1 29.8  9.6 25.9 12.5 21.6 11.8 44.7 16.7 37.9 23.9 50.6 50.7 22.\n",
            " 15.2 28.3 14.6 36.  15.5  8.7 43.8 28.9 35.8 22.8 22.6 30.  28.7 32.9\n",
            " 26.9 42.  59.5 27.6 28.2 28.6 20.4 22.1 40.4 23.4 24.2 34.8 20.2 41.4\n",
            " 14.8  4.5 13.  22.3 21.5 33.   9.5 37.7 34.3 26.8 30.5 16.2 39.7 38.\n",
            " 19.7 12.7 10.3  6.1 12.9 22.4 40.  16.6 27.1 13.1 26.5 22.2  9.  27.\n",
            " 30.6 25.2 48.  55.5 33.5 32.2 31.7  8.1 29.7 15.   8.5 20.7 12.3  8.\n",
            "  5.5 33.2 46.3 39.9  4.4 13.7 43.1 26.2 29.3 24.3  5.7 19.4  5.9]\n",
            "rainfall (2 unique)\n",
            "[1 0]\n"
          ]
        }
      ]
    },
    {
      "cell_type": "code",
      "source": [
        "df.isnull().any()"
      ],
      "metadata": {
        "colab": {
          "base_uri": "https://localhost:8080/",
          "height": 429
        },
        "id": "sDWR254p_kXg",
        "outputId": "4aebc4b8-a5d5-48b3-9962-0afef73c3853"
      },
      "execution_count": 5,
      "outputs": [
        {
          "output_type": "execute_result",
          "data": {
            "text/plain": [
              "pressure         False\n",
              "maxtemp          False\n",
              "temparature      False\n",
              "mintemp          False\n",
              "dewpoint         False\n",
              "humidity         False\n",
              "cloud            False\n",
              "sunshine         False\n",
              "winddirection    False\n",
              "windspeed        False\n",
              "rainfall         False\n",
              "dtype: bool"
            ],
            "text/html": [
              "<div>\n",
              "<style scoped>\n",
              "    .dataframe tbody tr th:only-of-type {\n",
              "        vertical-align: middle;\n",
              "    }\n",
              "\n",
              "    .dataframe tbody tr th {\n",
              "        vertical-align: top;\n",
              "    }\n",
              "\n",
              "    .dataframe thead th {\n",
              "        text-align: right;\n",
              "    }\n",
              "</style>\n",
              "<table border=\"1\" class=\"dataframe\">\n",
              "  <thead>\n",
              "    <tr style=\"text-align: right;\">\n",
              "      <th></th>\n",
              "      <th>0</th>\n",
              "    </tr>\n",
              "  </thead>\n",
              "  <tbody>\n",
              "    <tr>\n",
              "      <th>pressure</th>\n",
              "      <td>False</td>\n",
              "    </tr>\n",
              "    <tr>\n",
              "      <th>maxtemp</th>\n",
              "      <td>False</td>\n",
              "    </tr>\n",
              "    <tr>\n",
              "      <th>temparature</th>\n",
              "      <td>False</td>\n",
              "    </tr>\n",
              "    <tr>\n",
              "      <th>mintemp</th>\n",
              "      <td>False</td>\n",
              "    </tr>\n",
              "    <tr>\n",
              "      <th>dewpoint</th>\n",
              "      <td>False</td>\n",
              "    </tr>\n",
              "    <tr>\n",
              "      <th>humidity</th>\n",
              "      <td>False</td>\n",
              "    </tr>\n",
              "    <tr>\n",
              "      <th>cloud</th>\n",
              "      <td>False</td>\n",
              "    </tr>\n",
              "    <tr>\n",
              "      <th>sunshine</th>\n",
              "      <td>False</td>\n",
              "    </tr>\n",
              "    <tr>\n",
              "      <th>winddirection</th>\n",
              "      <td>False</td>\n",
              "    </tr>\n",
              "    <tr>\n",
              "      <th>windspeed</th>\n",
              "      <td>False</td>\n",
              "    </tr>\n",
              "    <tr>\n",
              "      <th>rainfall</th>\n",
              "      <td>False</td>\n",
              "    </tr>\n",
              "  </tbody>\n",
              "</table>\n",
              "</div><br><label><b>dtype:</b> bool</label>"
            ]
          },
          "metadata": {},
          "execution_count": 5
        }
      ]
    },
    {
      "cell_type": "code",
      "source": [
        "df.shape"
      ],
      "metadata": {
        "colab": {
          "base_uri": "https://localhost:8080/"
        },
        "id": "oVfXYT5j_s6w",
        "outputId": "f62b2376-d89a-4b34-b79b-36b2d690534b"
      },
      "execution_count": 6,
      "outputs": [
        {
          "output_type": "execute_result",
          "data": {
            "text/plain": [
              "(2190, 11)"
            ]
          },
          "metadata": {},
          "execution_count": 6
        }
      ]
    },
    {
      "cell_type": "code",
      "source": [
        "df.drop_duplicates(inplace=True)\n",
        "df.describe()"
      ],
      "metadata": {
        "colab": {
          "base_uri": "https://localhost:8080/",
          "height": 320
        },
        "id": "F_E1GldE_xpj",
        "outputId": "89544598-a860-4724-fa16-61e339851c64"
      },
      "execution_count": 7,
      "outputs": [
        {
          "output_type": "execute_result",
          "data": {
            "text/plain": [
              "          pressure      maxtemp  temparature      mintemp     dewpoint  \\\n",
              "count  2190.000000  2190.000000  2190.000000  2190.000000  2190.000000   \n",
              "mean   1013.602146    26.365799    23.953059    22.170091    20.454566   \n",
              "std       5.655366     5.654330     5.222410     5.059120     5.288406   \n",
              "min     999.000000    10.400000     7.400000     4.000000    -0.300000   \n",
              "25%    1008.600000    21.300000    19.300000    17.700000    16.800000   \n",
              "50%    1013.000000    27.800000    25.500000    23.850000    22.150000   \n",
              "75%    1017.775000    31.200000    28.400000    26.400000    25.000000   \n",
              "max    1034.600000    36.000000    31.500000    29.800000    26.700000   \n",
              "\n",
              "          humidity        cloud     sunshine  winddirection    windspeed  \\\n",
              "count  2190.000000  2190.000000  2190.000000    2190.000000  2190.000000   \n",
              "mean     82.036530    75.721918     3.744429     104.863151    21.804703   \n",
              "std       7.800654    18.026498     3.626327      80.002416     9.898659   \n",
              "min      39.000000     2.000000     0.000000      10.000000     4.400000   \n",
              "25%      77.000000    69.000000     0.400000      40.000000    14.125000   \n",
              "50%      82.000000    83.000000     2.400000      70.000000    20.500000   \n",
              "75%      88.000000    88.000000     6.800000     200.000000    27.900000   \n",
              "max      98.000000   100.000000    12.100000     300.000000    59.500000   \n",
              "\n",
              "          rainfall  \n",
              "count  2190.000000  \n",
              "mean      0.753425  \n",
              "std       0.431116  \n",
              "min       0.000000  \n",
              "25%       1.000000  \n",
              "50%       1.000000  \n",
              "75%       1.000000  \n",
              "max       1.000000  "
            ],
            "text/html": [
              "\n",
              "  <div id=\"df-76832f2f-578a-47b3-aaf2-9acd4c4769ea\" class=\"colab-df-container\">\n",
              "    <div>\n",
              "<style scoped>\n",
              "    .dataframe tbody tr th:only-of-type {\n",
              "        vertical-align: middle;\n",
              "    }\n",
              "\n",
              "    .dataframe tbody tr th {\n",
              "        vertical-align: top;\n",
              "    }\n",
              "\n",
              "    .dataframe thead th {\n",
              "        text-align: right;\n",
              "    }\n",
              "</style>\n",
              "<table border=\"1\" class=\"dataframe\">\n",
              "  <thead>\n",
              "    <tr style=\"text-align: right;\">\n",
              "      <th></th>\n",
              "      <th>pressure</th>\n",
              "      <th>maxtemp</th>\n",
              "      <th>temparature</th>\n",
              "      <th>mintemp</th>\n",
              "      <th>dewpoint</th>\n",
              "      <th>humidity</th>\n",
              "      <th>cloud</th>\n",
              "      <th>sunshine</th>\n",
              "      <th>winddirection</th>\n",
              "      <th>windspeed</th>\n",
              "      <th>rainfall</th>\n",
              "    </tr>\n",
              "  </thead>\n",
              "  <tbody>\n",
              "    <tr>\n",
              "      <th>count</th>\n",
              "      <td>2190.000000</td>\n",
              "      <td>2190.000000</td>\n",
              "      <td>2190.000000</td>\n",
              "      <td>2190.000000</td>\n",
              "      <td>2190.000000</td>\n",
              "      <td>2190.000000</td>\n",
              "      <td>2190.000000</td>\n",
              "      <td>2190.000000</td>\n",
              "      <td>2190.000000</td>\n",
              "      <td>2190.000000</td>\n",
              "      <td>2190.000000</td>\n",
              "    </tr>\n",
              "    <tr>\n",
              "      <th>mean</th>\n",
              "      <td>1013.602146</td>\n",
              "      <td>26.365799</td>\n",
              "      <td>23.953059</td>\n",
              "      <td>22.170091</td>\n",
              "      <td>20.454566</td>\n",
              "      <td>82.036530</td>\n",
              "      <td>75.721918</td>\n",
              "      <td>3.744429</td>\n",
              "      <td>104.863151</td>\n",
              "      <td>21.804703</td>\n",
              "      <td>0.753425</td>\n",
              "    </tr>\n",
              "    <tr>\n",
              "      <th>std</th>\n",
              "      <td>5.655366</td>\n",
              "      <td>5.654330</td>\n",
              "      <td>5.222410</td>\n",
              "      <td>5.059120</td>\n",
              "      <td>5.288406</td>\n",
              "      <td>7.800654</td>\n",
              "      <td>18.026498</td>\n",
              "      <td>3.626327</td>\n",
              "      <td>80.002416</td>\n",
              "      <td>9.898659</td>\n",
              "      <td>0.431116</td>\n",
              "    </tr>\n",
              "    <tr>\n",
              "      <th>min</th>\n",
              "      <td>999.000000</td>\n",
              "      <td>10.400000</td>\n",
              "      <td>7.400000</td>\n",
              "      <td>4.000000</td>\n",
              "      <td>-0.300000</td>\n",
              "      <td>39.000000</td>\n",
              "      <td>2.000000</td>\n",
              "      <td>0.000000</td>\n",
              "      <td>10.000000</td>\n",
              "      <td>4.400000</td>\n",
              "      <td>0.000000</td>\n",
              "    </tr>\n",
              "    <tr>\n",
              "      <th>25%</th>\n",
              "      <td>1008.600000</td>\n",
              "      <td>21.300000</td>\n",
              "      <td>19.300000</td>\n",
              "      <td>17.700000</td>\n",
              "      <td>16.800000</td>\n",
              "      <td>77.000000</td>\n",
              "      <td>69.000000</td>\n",
              "      <td>0.400000</td>\n",
              "      <td>40.000000</td>\n",
              "      <td>14.125000</td>\n",
              "      <td>1.000000</td>\n",
              "    </tr>\n",
              "    <tr>\n",
              "      <th>50%</th>\n",
              "      <td>1013.000000</td>\n",
              "      <td>27.800000</td>\n",
              "      <td>25.500000</td>\n",
              "      <td>23.850000</td>\n",
              "      <td>22.150000</td>\n",
              "      <td>82.000000</td>\n",
              "      <td>83.000000</td>\n",
              "      <td>2.400000</td>\n",
              "      <td>70.000000</td>\n",
              "      <td>20.500000</td>\n",
              "      <td>1.000000</td>\n",
              "    </tr>\n",
              "    <tr>\n",
              "      <th>75%</th>\n",
              "      <td>1017.775000</td>\n",
              "      <td>31.200000</td>\n",
              "      <td>28.400000</td>\n",
              "      <td>26.400000</td>\n",
              "      <td>25.000000</td>\n",
              "      <td>88.000000</td>\n",
              "      <td>88.000000</td>\n",
              "      <td>6.800000</td>\n",
              "      <td>200.000000</td>\n",
              "      <td>27.900000</td>\n",
              "      <td>1.000000</td>\n",
              "    </tr>\n",
              "    <tr>\n",
              "      <th>max</th>\n",
              "      <td>1034.600000</td>\n",
              "      <td>36.000000</td>\n",
              "      <td>31.500000</td>\n",
              "      <td>29.800000</td>\n",
              "      <td>26.700000</td>\n",
              "      <td>98.000000</td>\n",
              "      <td>100.000000</td>\n",
              "      <td>12.100000</td>\n",
              "      <td>300.000000</td>\n",
              "      <td>59.500000</td>\n",
              "      <td>1.000000</td>\n",
              "    </tr>\n",
              "  </tbody>\n",
              "</table>\n",
              "</div>\n",
              "    <div class=\"colab-df-buttons\">\n",
              "\n",
              "  <div class=\"colab-df-container\">\n",
              "    <button class=\"colab-df-convert\" onclick=\"convertToInteractive('df-76832f2f-578a-47b3-aaf2-9acd4c4769ea')\"\n",
              "            title=\"Convert this dataframe to an interactive table.\"\n",
              "            style=\"display:none;\">\n",
              "\n",
              "  <svg xmlns=\"http://www.w3.org/2000/svg\" height=\"24px\" viewBox=\"0 -960 960 960\">\n",
              "    <path d=\"M120-120v-720h720v720H120Zm60-500h600v-160H180v160Zm220 220h160v-160H400v160Zm0 220h160v-160H400v160ZM180-400h160v-160H180v160Zm440 0h160v-160H620v160ZM180-180h160v-160H180v160Zm440 0h160v-160H620v160Z\"/>\n",
              "  </svg>\n",
              "    </button>\n",
              "\n",
              "  <style>\n",
              "    .colab-df-container {\n",
              "      display:flex;\n",
              "      gap: 12px;\n",
              "    }\n",
              "\n",
              "    .colab-df-convert {\n",
              "      background-color: #E8F0FE;\n",
              "      border: none;\n",
              "      border-radius: 50%;\n",
              "      cursor: pointer;\n",
              "      display: none;\n",
              "      fill: #1967D2;\n",
              "      height: 32px;\n",
              "      padding: 0 0 0 0;\n",
              "      width: 32px;\n",
              "    }\n",
              "\n",
              "    .colab-df-convert:hover {\n",
              "      background-color: #E2EBFA;\n",
              "      box-shadow: 0px 1px 2px rgba(60, 64, 67, 0.3), 0px 1px 3px 1px rgba(60, 64, 67, 0.15);\n",
              "      fill: #174EA6;\n",
              "    }\n",
              "\n",
              "    .colab-df-buttons div {\n",
              "      margin-bottom: 4px;\n",
              "    }\n",
              "\n",
              "    [theme=dark] .colab-df-convert {\n",
              "      background-color: #3B4455;\n",
              "      fill: #D2E3FC;\n",
              "    }\n",
              "\n",
              "    [theme=dark] .colab-df-convert:hover {\n",
              "      background-color: #434B5C;\n",
              "      box-shadow: 0px 1px 3px 1px rgba(0, 0, 0, 0.15);\n",
              "      filter: drop-shadow(0px 1px 2px rgba(0, 0, 0, 0.3));\n",
              "      fill: #FFFFFF;\n",
              "    }\n",
              "  </style>\n",
              "\n",
              "    <script>\n",
              "      const buttonEl =\n",
              "        document.querySelector('#df-76832f2f-578a-47b3-aaf2-9acd4c4769ea button.colab-df-convert');\n",
              "      buttonEl.style.display =\n",
              "        google.colab.kernel.accessAllowed ? 'block' : 'none';\n",
              "\n",
              "      async function convertToInteractive(key) {\n",
              "        const element = document.querySelector('#df-76832f2f-578a-47b3-aaf2-9acd4c4769ea');\n",
              "        const dataTable =\n",
              "          await google.colab.kernel.invokeFunction('convertToInteractive',\n",
              "                                                    [key], {});\n",
              "        if (!dataTable) return;\n",
              "\n",
              "        const docLinkHtml = 'Like what you see? Visit the ' +\n",
              "          '<a target=\"_blank\" href=https://colab.research.google.com/notebooks/data_table.ipynb>data table notebook</a>'\n",
              "          + ' to learn more about interactive tables.';\n",
              "        element.innerHTML = '';\n",
              "        dataTable['output_type'] = 'display_data';\n",
              "        await google.colab.output.renderOutput(dataTable, element);\n",
              "        const docLink = document.createElement('div');\n",
              "        docLink.innerHTML = docLinkHtml;\n",
              "        element.appendChild(docLink);\n",
              "      }\n",
              "    </script>\n",
              "  </div>\n",
              "\n",
              "\n",
              "    <div id=\"df-1440d21c-8b49-4674-bb41-c0dc912ac1fc\">\n",
              "      <button class=\"colab-df-quickchart\" onclick=\"quickchart('df-1440d21c-8b49-4674-bb41-c0dc912ac1fc')\"\n",
              "                title=\"Suggest charts\"\n",
              "                style=\"display:none;\">\n",
              "\n",
              "<svg xmlns=\"http://www.w3.org/2000/svg\" height=\"24px\"viewBox=\"0 0 24 24\"\n",
              "     width=\"24px\">\n",
              "    <g>\n",
              "        <path d=\"M19 3H5c-1.1 0-2 .9-2 2v14c0 1.1.9 2 2 2h14c1.1 0 2-.9 2-2V5c0-1.1-.9-2-2-2zM9 17H7v-7h2v7zm4 0h-2V7h2v10zm4 0h-2v-4h2v4z\"/>\n",
              "    </g>\n",
              "</svg>\n",
              "      </button>\n",
              "\n",
              "<style>\n",
              "  .colab-df-quickchart {\n",
              "      --bg-color: #E8F0FE;\n",
              "      --fill-color: #1967D2;\n",
              "      --hover-bg-color: #E2EBFA;\n",
              "      --hover-fill-color: #174EA6;\n",
              "      --disabled-fill-color: #AAA;\n",
              "      --disabled-bg-color: #DDD;\n",
              "  }\n",
              "\n",
              "  [theme=dark] .colab-df-quickchart {\n",
              "      --bg-color: #3B4455;\n",
              "      --fill-color: #D2E3FC;\n",
              "      --hover-bg-color: #434B5C;\n",
              "      --hover-fill-color: #FFFFFF;\n",
              "      --disabled-bg-color: #3B4455;\n",
              "      --disabled-fill-color: #666;\n",
              "  }\n",
              "\n",
              "  .colab-df-quickchart {\n",
              "    background-color: var(--bg-color);\n",
              "    border: none;\n",
              "    border-radius: 50%;\n",
              "    cursor: pointer;\n",
              "    display: none;\n",
              "    fill: var(--fill-color);\n",
              "    height: 32px;\n",
              "    padding: 0;\n",
              "    width: 32px;\n",
              "  }\n",
              "\n",
              "  .colab-df-quickchart:hover {\n",
              "    background-color: var(--hover-bg-color);\n",
              "    box-shadow: 0 1px 2px rgba(60, 64, 67, 0.3), 0 1px 3px 1px rgba(60, 64, 67, 0.15);\n",
              "    fill: var(--button-hover-fill-color);\n",
              "  }\n",
              "\n",
              "  .colab-df-quickchart-complete:disabled,\n",
              "  .colab-df-quickchart-complete:disabled:hover {\n",
              "    background-color: var(--disabled-bg-color);\n",
              "    fill: var(--disabled-fill-color);\n",
              "    box-shadow: none;\n",
              "  }\n",
              "\n",
              "  .colab-df-spinner {\n",
              "    border: 2px solid var(--fill-color);\n",
              "    border-color: transparent;\n",
              "    border-bottom-color: var(--fill-color);\n",
              "    animation:\n",
              "      spin 1s steps(1) infinite;\n",
              "  }\n",
              "\n",
              "  @keyframes spin {\n",
              "    0% {\n",
              "      border-color: transparent;\n",
              "      border-bottom-color: var(--fill-color);\n",
              "      border-left-color: var(--fill-color);\n",
              "    }\n",
              "    20% {\n",
              "      border-color: transparent;\n",
              "      border-left-color: var(--fill-color);\n",
              "      border-top-color: var(--fill-color);\n",
              "    }\n",
              "    30% {\n",
              "      border-color: transparent;\n",
              "      border-left-color: var(--fill-color);\n",
              "      border-top-color: var(--fill-color);\n",
              "      border-right-color: var(--fill-color);\n",
              "    }\n",
              "    40% {\n",
              "      border-color: transparent;\n",
              "      border-right-color: var(--fill-color);\n",
              "      border-top-color: var(--fill-color);\n",
              "    }\n",
              "    60% {\n",
              "      border-color: transparent;\n",
              "      border-right-color: var(--fill-color);\n",
              "    }\n",
              "    80% {\n",
              "      border-color: transparent;\n",
              "      border-right-color: var(--fill-color);\n",
              "      border-bottom-color: var(--fill-color);\n",
              "    }\n",
              "    90% {\n",
              "      border-color: transparent;\n",
              "      border-bottom-color: var(--fill-color);\n",
              "    }\n",
              "  }\n",
              "</style>\n",
              "\n",
              "      <script>\n",
              "        async function quickchart(key) {\n",
              "          const quickchartButtonEl =\n",
              "            document.querySelector('#' + key + ' button');\n",
              "          quickchartButtonEl.disabled = true;  // To prevent multiple clicks.\n",
              "          quickchartButtonEl.classList.add('colab-df-spinner');\n",
              "          try {\n",
              "            const charts = await google.colab.kernel.invokeFunction(\n",
              "                'suggestCharts', [key], {});\n",
              "          } catch (error) {\n",
              "            console.error('Error during call to suggestCharts:', error);\n",
              "          }\n",
              "          quickchartButtonEl.classList.remove('colab-df-spinner');\n",
              "          quickchartButtonEl.classList.add('colab-df-quickchart-complete');\n",
              "        }\n",
              "        (() => {\n",
              "          let quickchartButtonEl =\n",
              "            document.querySelector('#df-1440d21c-8b49-4674-bb41-c0dc912ac1fc button');\n",
              "          quickchartButtonEl.style.display =\n",
              "            google.colab.kernel.accessAllowed ? 'block' : 'none';\n",
              "        })();\n",
              "      </script>\n",
              "    </div>\n",
              "\n",
              "    </div>\n",
              "  </div>\n"
            ],
            "application/vnd.google.colaboratory.intrinsic+json": {
              "type": "dataframe",
              "summary": "{\n  \"name\": \"df\",\n  \"rows\": 8,\n  \"fields\": [\n    {\n      \"column\": \"pressure\",\n      \"properties\": {\n        \"dtype\": \"number\",\n        \"std\": 585.1503398908412,\n        \"min\": 5.65536570181064,\n        \"max\": 2190.0,\n        \"num_unique_values\": 8,\n        \"samples\": [\n          1013.6021461187215,\n          1013.0,\n          2190.0\n        ],\n        \"semantic_type\": \"\",\n        \"description\": \"\"\n      }\n    },\n    {\n      \"column\": \"maxtemp\",\n      \"properties\": {\n        \"dtype\": \"number\",\n        \"std\": 766.3336158989547,\n        \"min\": 5.65433037282907,\n        \"max\": 2190.0,\n        \"num_unique_values\": 8,\n        \"samples\": [\n          26.365799086757992,\n          27.8,\n          2190.0\n        ],\n        \"semantic_type\": \"\",\n        \"description\": \"\"\n      }\n    },\n    {\n      \"column\": \"temparature\",\n      \"properties\": {\n        \"dtype\": \"number\",\n        \"std\": 767.2047285356114,\n        \"min\": 5.222409915707127,\n        \"max\": 2190.0,\n        \"num_unique_values\": 8,\n        \"samples\": [\n          23.95305936073059,\n          25.5,\n          2190.0\n        ],\n        \"semantic_type\": \"\",\n        \"description\": \"\"\n      }\n    },\n    {\n      \"column\": \"mintemp\",\n      \"properties\": {\n        \"dtype\": \"number\",\n        \"std\": 767.8255147066586,\n        \"min\": 4.0,\n        \"max\": 2190.0,\n        \"num_unique_values\": 8,\n        \"samples\": [\n          22.170091324200914,\n          23.85,\n          2190.0\n        ],\n        \"semantic_type\": \"\",\n        \"description\": \"\"\n      }\n    },\n    {\n      \"column\": \"dewpoint\",\n      \"properties\": {\n        \"dtype\": \"number\",\n        \"std\": 768.4770746025159,\n        \"min\": -0.3,\n        \"max\": 2190.0,\n        \"num_unique_values\": 8,\n        \"samples\": [\n          20.454566210045662,\n          22.15,\n          2190.0\n        ],\n        \"semantic_type\": \"\",\n        \"description\": \"\"\n      }\n    },\n    {\n      \"column\": \"humidity\",\n      \"properties\": {\n        \"dtype\": \"number\",\n        \"std\": 750.9431474649243,\n        \"min\": 7.80065352082885,\n        \"max\": 2190.0,\n        \"num_unique_values\": 8,\n        \"samples\": [\n          82.03652968036529,\n          82.0,\n          2190.0\n        ],\n        \"semantic_type\": \"\",\n        \"description\": \"\"\n      }\n    },\n    {\n      \"column\": \"cloud\",\n      \"properties\": {\n        \"dtype\": \"number\",\n        \"std\": 753.063971943106,\n        \"min\": 2.0,\n        \"max\": 2190.0,\n        \"num_unique_values\": 8,\n        \"samples\": [\n          75.72191780821917,\n          83.0,\n          2190.0\n        ],\n        \"semantic_type\": \"\",\n        \"description\": \"\"\n      }\n    },\n    {\n      \"column\": \"sunshine\",\n      \"properties\": {\n        \"dtype\": \"number\",\n        \"std\": 772.8233362641464,\n        \"min\": 0.0,\n        \"max\": 2190.0,\n        \"num_unique_values\": 8,\n        \"samples\": [\n          3.7444292237442918,\n          2.4,\n          2190.0\n        ],\n        \"semantic_type\": \"\",\n        \"description\": \"\"\n      }\n    },\n    {\n      \"column\": \"winddirection\",\n      \"properties\": {\n        \"dtype\": \"number\",\n        \"std\": 739.5890941035725,\n        \"min\": 10.0,\n        \"max\": 2190.0,\n        \"num_unique_values\": 8,\n        \"samples\": [\n          104.8631506849315,\n          70.0,\n          2190.0\n        ],\n        \"semantic_type\": \"\",\n        \"description\": \"\"\n      }\n    },\n    {\n      \"column\": \"windspeed\",\n      \"properties\": {\n        \"dtype\": \"number\",\n        \"std\": 766.4778315333915,\n        \"min\": 4.4,\n        \"max\": 2190.0,\n        \"num_unique_values\": 8,\n        \"samples\": [\n          21.804703196347035,\n          20.5,\n          2190.0\n        ],\n        \"semantic_type\": \"\",\n        \"description\": \"\"\n      }\n    },\n    {\n      \"column\": \"rainfall\",\n      \"properties\": {\n        \"dtype\": \"number\",\n        \"std\": 774.0201508719291,\n        \"min\": 0.0,\n        \"max\": 2190.0,\n        \"num_unique_values\": 5,\n        \"samples\": [\n          0.7534246575342466,\n          1.0,\n          0.4311157743621022\n        ],\n        \"semantic_type\": \"\",\n        \"description\": \"\"\n      }\n    }\n  ]\n}"
            }
          },
          "metadata": {},
          "execution_count": 7
        }
      ]
    },
    {
      "cell_type": "code",
      "source": [
        "from sklearn.tree import DecisionTreeClassifier\n",
        "from sklearn.ensemble import RandomForestClassifier\n",
        "from xgboost import XGBClassifier\n",
        "from lightgbm import LGBMClassifier\n",
        "from sklearn.pipeline import Pipeline\n",
        "from sklearn.feature_selection import mutual_info_classif\n",
        "from sklearn.model_selection import train_test_split, GridSearchCV\n",
        "from sklearn.model_selection import train_test_split\n",
        "from sklearn.metrics import accuracy_score, precision_score, recall_score, f1_score, roc_auc_score, confusion_matrix\n",
        "from sklearn.preprocessing import OneHotEncoder, OrdinalEncoder, LabelEncoder\n",
        "from sklearn.compose import ColumnTransformer"
      ],
      "metadata": {
        "id": "Z5FTiXoTB19q"
      },
      "execution_count": 116,
      "outputs": []
    },
    {
      "cell_type": "code",
      "source": [
        "features = ['pressure', 'maxtemp', 'temparature', 'mintemp', 'dewpoint', 'humidity',\n",
        "       'cloud', 'sunshine', 'winddirection', 'windspeed']\n",
        "target = 'rainfall'\n",
        "X = df[features]\n",
        "y = df[target]\n",
        "train_X, val_X, train_y, val_y = train_test_split(X, y, random_state=76)"
      ],
      "metadata": {
        "id": "yHkJijG5C9G6"
      },
      "execution_count": 9,
      "outputs": []
    },
    {
      "cell_type": "code",
      "source": [
        "y.value_counts(normalize=True)"
      ],
      "metadata": {
        "colab": {
          "base_uri": "https://localhost:8080/",
          "height": 178
        },
        "id": "POdSoMraEUkq",
        "outputId": "b7861254-13af-4679-8d0b-5e53045e3c9e"
      },
      "execution_count": 10,
      "outputs": [
        {
          "output_type": "execute_result",
          "data": {
            "text/plain": [
              "rainfall\n",
              "1    0.753425\n",
              "0    0.246575\n",
              "Name: proportion, dtype: float64"
            ],
            "text/html": [
              "<div>\n",
              "<style scoped>\n",
              "    .dataframe tbody tr th:only-of-type {\n",
              "        vertical-align: middle;\n",
              "    }\n",
              "\n",
              "    .dataframe tbody tr th {\n",
              "        vertical-align: top;\n",
              "    }\n",
              "\n",
              "    .dataframe thead th {\n",
              "        text-align: right;\n",
              "    }\n",
              "</style>\n",
              "<table border=\"1\" class=\"dataframe\">\n",
              "  <thead>\n",
              "    <tr style=\"text-align: right;\">\n",
              "      <th></th>\n",
              "      <th>proportion</th>\n",
              "    </tr>\n",
              "    <tr>\n",
              "      <th>rainfall</th>\n",
              "      <th></th>\n",
              "    </tr>\n",
              "  </thead>\n",
              "  <tbody>\n",
              "    <tr>\n",
              "      <th>1</th>\n",
              "      <td>0.753425</td>\n",
              "    </tr>\n",
              "    <tr>\n",
              "      <th>0</th>\n",
              "      <td>0.246575</td>\n",
              "    </tr>\n",
              "  </tbody>\n",
              "</table>\n",
              "</div><br><label><b>dtype:</b> float64</label>"
            ]
          },
          "metadata": {},
          "execution_count": 10
        }
      ]
    },
    {
      "cell_type": "code",
      "source": [
        "XX = X.copy()\n",
        "yy = y.copy()\n",
        "for col in XX.select_dtypes('float'):\n",
        "  XX[col] = XX[col].round().astype(int)"
      ],
      "metadata": {
        "id": "XkX9REihFIuz"
      },
      "execution_count": 11,
      "outputs": []
    },
    {
      "cell_type": "code",
      "source": [
        "for col in XX.select_dtypes('object'):\n",
        "  XX.loc[:, col], _ = XX[col].factorize()\n",
        "discrete_features = XX.dtypes == int\n",
        "yy, _ = pd.factorize(y)\n",
        "\n",
        "def make_mi_scores(XX, yy, discrete_features):\n",
        "  mi_scores = mutual_info_classif(XX, yy, discrete_features=discrete_features)\n",
        "  mi_scores = pd.Series(mi_scores, name='MI Score', index=XX.columns)\n",
        "  mi_scores = mi_scores.sort_values(ascending=False)\n",
        "  return mi_scores\n",
        "\n",
        "mi_scores = make_mi_scores(XX, yy, discrete_features)\n",
        "mi_scores"
      ],
      "metadata": {
        "colab": {
          "base_uri": "https://localhost:8080/",
          "height": 398
        },
        "id": "IHWTf86rIQwu",
        "outputId": "67de8198-2a9d-4537-a36c-591b7e16e8d8"
      },
      "execution_count": 12,
      "outputs": [
        {
          "output_type": "execute_result",
          "data": {
            "text/plain": [
              "cloud            0.228107\n",
              "sunshine         0.159198\n",
              "humidity         0.143732\n",
              "maxtemp          0.024106\n",
              "temparature      0.021188\n",
              "windspeed        0.019926\n",
              "dewpoint         0.019379\n",
              "mintemp          0.018801\n",
              "pressure         0.016516\n",
              "winddirection    0.015420\n",
              "Name: MI Score, dtype: float64"
            ],
            "text/html": [
              "<div>\n",
              "<style scoped>\n",
              "    .dataframe tbody tr th:only-of-type {\n",
              "        vertical-align: middle;\n",
              "    }\n",
              "\n",
              "    .dataframe tbody tr th {\n",
              "        vertical-align: top;\n",
              "    }\n",
              "\n",
              "    .dataframe thead th {\n",
              "        text-align: right;\n",
              "    }\n",
              "</style>\n",
              "<table border=\"1\" class=\"dataframe\">\n",
              "  <thead>\n",
              "    <tr style=\"text-align: right;\">\n",
              "      <th></th>\n",
              "      <th>MI Score</th>\n",
              "    </tr>\n",
              "  </thead>\n",
              "  <tbody>\n",
              "    <tr>\n",
              "      <th>cloud</th>\n",
              "      <td>0.228107</td>\n",
              "    </tr>\n",
              "    <tr>\n",
              "      <th>sunshine</th>\n",
              "      <td>0.159198</td>\n",
              "    </tr>\n",
              "    <tr>\n",
              "      <th>humidity</th>\n",
              "      <td>0.143732</td>\n",
              "    </tr>\n",
              "    <tr>\n",
              "      <th>maxtemp</th>\n",
              "      <td>0.024106</td>\n",
              "    </tr>\n",
              "    <tr>\n",
              "      <th>temparature</th>\n",
              "      <td>0.021188</td>\n",
              "    </tr>\n",
              "    <tr>\n",
              "      <th>windspeed</th>\n",
              "      <td>0.019926</td>\n",
              "    </tr>\n",
              "    <tr>\n",
              "      <th>dewpoint</th>\n",
              "      <td>0.019379</td>\n",
              "    </tr>\n",
              "    <tr>\n",
              "      <th>mintemp</th>\n",
              "      <td>0.018801</td>\n",
              "    </tr>\n",
              "    <tr>\n",
              "      <th>pressure</th>\n",
              "      <td>0.016516</td>\n",
              "    </tr>\n",
              "    <tr>\n",
              "      <th>winddirection</th>\n",
              "      <td>0.015420</td>\n",
              "    </tr>\n",
              "  </tbody>\n",
              "</table>\n",
              "</div><br><label><b>dtype:</b> float64</label>"
            ]
          },
          "metadata": {},
          "execution_count": 12
        }
      ]
    },
    {
      "cell_type": "code",
      "source": [
        "from imblearn.over_sampling import SMOTE\n",
        "from collections import Counter"
      ],
      "metadata": {
        "id": "T1uYpDWr8zra"
      },
      "execution_count": 13,
      "outputs": []
    },
    {
      "cell_type": "code",
      "source": [
        "print(\"Original data shape:\", Counter(y))"
      ],
      "metadata": {
        "colab": {
          "base_uri": "https://localhost:8080/"
        },
        "id": "DpjU6fnl_AM0",
        "outputId": "080bacf3-b240-4c8c-d320-84007ae50b2d"
      },
      "execution_count": 14,
      "outputs": [
        {
          "output_type": "stream",
          "name": "stdout",
          "text": [
            "Original data shape: Counter({1: 1650, 0: 540})\n"
          ]
        }
      ]
    },
    {
      "cell_type": "code",
      "source": [
        "smote = SMOTE(random_state=42)\n",
        "X_res_smote, y_res_smote = smote.fit_resample(X, y)\n",
        "print(\"Resampled data shape:\", Counter(y_res_smote))"
      ],
      "metadata": {
        "colab": {
          "base_uri": "https://localhost:8080/"
        },
        "id": "2v2tT0JH_ah2",
        "outputId": "86761735-c838-4a8c-b139-e6d42bc507f0"
      },
      "execution_count": 15,
      "outputs": [
        {
          "output_type": "stream",
          "name": "stdout",
          "text": [
            "Resampled data shape: Counter({1: 1650, 0: 1650})\n"
          ]
        }
      ]
    },
    {
      "cell_type": "code",
      "source": [
        "pd.Series(y_res_smote).value_counts(normalize=True)"
      ],
      "metadata": {
        "colab": {
          "base_uri": "https://localhost:8080/",
          "height": 178
        },
        "id": "QtmMEJivAqAs",
        "outputId": "59fb8999-c47e-49cf-e71a-d504a0e0dfe1"
      },
      "execution_count": 16,
      "outputs": [
        {
          "output_type": "execute_result",
          "data": {
            "text/plain": [
              "rainfall\n",
              "1    0.5\n",
              "0    0.5\n",
              "Name: proportion, dtype: float64"
            ],
            "text/html": [
              "<div>\n",
              "<style scoped>\n",
              "    .dataframe tbody tr th:only-of-type {\n",
              "        vertical-align: middle;\n",
              "    }\n",
              "\n",
              "    .dataframe tbody tr th {\n",
              "        vertical-align: top;\n",
              "    }\n",
              "\n",
              "    .dataframe thead th {\n",
              "        text-align: right;\n",
              "    }\n",
              "</style>\n",
              "<table border=\"1\" class=\"dataframe\">\n",
              "  <thead>\n",
              "    <tr style=\"text-align: right;\">\n",
              "      <th></th>\n",
              "      <th>proportion</th>\n",
              "    </tr>\n",
              "    <tr>\n",
              "      <th>rainfall</th>\n",
              "      <th></th>\n",
              "    </tr>\n",
              "  </thead>\n",
              "  <tbody>\n",
              "    <tr>\n",
              "      <th>1</th>\n",
              "      <td>0.5</td>\n",
              "    </tr>\n",
              "    <tr>\n",
              "      <th>0</th>\n",
              "      <td>0.5</td>\n",
              "    </tr>\n",
              "  </tbody>\n",
              "</table>\n",
              "</div><br><label><b>dtype:</b> float64</label>"
            ]
          },
          "metadata": {},
          "execution_count": 16
        }
      ]
    },
    {
      "cell_type": "code",
      "source": [
        "scale_pos_weight = y.value_counts()[0] / y.value_counts()[1]"
      ],
      "metadata": {
        "id": "kKfOkmK2YNbK"
      },
      "execution_count": 17,
      "outputs": []
    },
    {
      "cell_type": "code",
      "source": [
        "tren_X, X_val, tren_y, y_val = train_test_split(X_res_smote, y_res_smote, random_state=76)"
      ],
      "metadata": {
        "id": "LK-ePFBPp9oq"
      },
      "execution_count": 18,
      "outputs": []
    },
    {
      "cell_type": "code",
      "source": [
        "mi_scores.plot(kind='bar', figsize=(10, 6))\n",
        "plt.title('Mutual Information Scores')\n",
        "plt.xlabel('Score')\n",
        "plt.ylabel('features')\n",
        "plt.show()"
      ],
      "metadata": {
        "colab": {
          "base_uri": "https://localhost:8080/",
          "height": 644
        },
        "id": "JjdygJvyduCK",
        "outputId": "df62235b-f872-400a-95ae-a9ca1e153725"
      },
      "execution_count": 19,
      "outputs": [
        {
          "output_type": "display_data",
          "data": {
            "text/plain": [
              "<Figure size 1000x600 with 1 Axes>"
            ],
            "image/png": "[encoded data removed]"
          },
          "metadata": {}
        }
      ]
    },
    {
      "cell_type": "code",
      "source": [
        "mi_scores.plot(kind='hist', bins=10, figsize=(8, 5))\n",
        "plt.title('Distribution of Mutual Information Scores')\n",
        "plt.xlabel('MI Score')\n",
        "plt.ylabel('Count of Features')\n",
        "plt.show()"
      ],
      "metadata": {
        "colab": {
          "base_uri": "https://localhost:8080/",
          "height": 487
        },
        "id": "DvQGmirEtfd7",
        "outputId": "6be62593-9802-401f-de99-5e85123cc341"
      },
      "execution_count": 20,
      "outputs": [
        {
          "output_type": "display_data",
          "data": {
            "text/plain": [
              "<Figure size 800x500 with 1 Axes>"
            ],
            "image/png": "[encoded data removed]"
          },
          "metadata": {}
        }
      ]
    },
    {
      "cell_type": "code",
      "source": [
        "model = Pipeline([\n",
        "    ('model', DecisionTreeClassifier(random_state=42, max_depth=6, splitter='random'))\n",
        "])\n",
        "model.fit(train_X, train_y)\n",
        "y_preds = model.predict(val_X)\n",
        "accuracy_score(val_y, y_preds)"
      ],
      "metadata": {
        "colab": {
          "base_uri": "https://localhost:8080/"
        },
        "id": "ZOB9cFuHt8kQ",
        "outputId": "99219076-e935-4f2e-f857-0ee93af614ca"
      },
      "execution_count": 48,
      "outputs": [
        {
          "output_type": "execute_result",
          "data": {
            "text/plain": [
              "0.843065693430657"
            ]
          },
          "metadata": {},
          "execution_count": 48
        }
      ]
    },
    {
      "cell_type": "code",
      "source": [
        "model = Pipeline([\n",
        "    ('model', DecisionTreeClassifier(random_state=42, max_depth=6, splitter='best'))\n",
        "])\n",
        "model.fit(tren_X, tren_y)\n",
        "y_preds = model.predict(X_val)\n",
        "accuracy_score(y_val, y_preds)"
      ],
      "metadata": {
        "colab": {
          "base_uri": "https://localhost:8080/"
        },
        "id": "AElthx0NtzIs",
        "outputId": "c894e13c-23ce-4f17-d774-f6c67bd84ca9"
      },
      "execution_count": 34,
      "outputs": [
        {
          "output_type": "execute_result",
          "data": {
            "text/plain": [
              "0.8412121212121212"
            ]
          },
          "metadata": {},
          "execution_count": 34
        }
      ]
    },
    {
      "cell_type": "code",
      "source": [
        "param_grid = {\n",
        "    'n_estimators': [100, 200, 250, 300],\n",
        "    'max_depth': list(range(4, 10)),\n",
        "    'min_samples_split': list(range(2, 6)),\n",
        "    'min_samples_leaf': [1, 2, 3, 4],\n",
        "    'max_features': ['sqrt', 'auto', 'log2']\n",
        "}\n",
        "rf = RandomForestClassifier(random_state=5)\n",
        "grid_search = GridSearchCV(\n",
        "    estimator=rf, param_grid=param_grid, cv=5, n_jobs=-1, scoring='accuracy'\n",
        ")\n",
        "grid_search.fit(train_X, train_y)\n",
        "print(\"Best parameters:\", grid_search.best_params_)\n",
        "print(\"Best cross-validation score:\", grid_search.best_score_)"
      ],
      "metadata": {
        "colab": {
          "base_uri": "https://localhost:8080/"
        },
        "id": "RqIW3sd7yUOl",
        "outputId": "8b91a093-934b-4338-e0db-3f0031c0e639"
      },
      "execution_count": 36,
      "outputs": [
        {
          "output_type": "stream",
          "name": "stderr",
          "text": [
            "/usr/local/lib/python3.11/dist-packages/sklearn/model_selection/_validation.py:528: FitFailedWarning: \n",
            "1920 fits failed out of a total of 5760.\n",
            "The score on these train-test partitions for these parameters will be set to nan.\n",
            "If these failures are not expected, you can try to debug them by setting error_score='raise'.\n",
            "\n",
            "Below are more details about the failures:\n",
            "--------------------------------------------------------------------------------\n",
            "992 fits failed with the following error:\n",
            "Traceback (most recent call last):\n",
            "  File \"/usr/local/lib/python3.11/dist-packages/sklearn/model_selection/_validation.py\", line 866, in _fit_and_score\n",
            "    estimator.fit(X_train, y_train, **fit_params)\n",
            "  File \"/usr/local/lib/python3.11/dist-packages/sklearn/base.py\", line 1382, in wrapper\n",
            "    estimator._validate_params()\n",
            "  File \"/usr/local/lib/python3.11/dist-packages/sklearn/base.py\", line 436, in _validate_params\n",
            "    validate_parameter_constraints(\n",
            "  File \"/usr/local/lib/python3.11/dist-packages/sklearn/utils/_param_validation.py\", line 98, in validate_parameter_constraints\n",
            "    raise InvalidParameterError(\n",
            "sklearn.utils._param_validation.InvalidParameterError: The 'max_features' parameter of RandomForestClassifier must be an int in the range [1, inf), a float in the range (0.0, 1.0], a str among {'log2', 'sqrt'} or None. Got 'auto' instead.\n",
            "\n",
            "--------------------------------------------------------------------------------\n",
            "928 fits failed with the following error:\n",
            "Traceback (most recent call last):\n",
            "  File \"/usr/local/lib/python3.11/dist-packages/sklearn/model_selection/_validation.py\", line 866, in _fit_and_score\n",
            "    estimator.fit(X_train, y_train, **fit_params)\n",
            "  File \"/usr/local/lib/python3.11/dist-packages/sklearn/base.py\", line 1382, in wrapper\n",
            "    estimator._validate_params()\n",
            "  File \"/usr/local/lib/python3.11/dist-packages/sklearn/base.py\", line 436, in _validate_params\n",
            "    validate_parameter_constraints(\n",
            "  File \"/usr/local/lib/python3.11/dist-packages/sklearn/utils/_param_validation.py\", line 98, in validate_parameter_constraints\n",
            "    raise InvalidParameterError(\n",
            "sklearn.utils._param_validation.InvalidParameterError: The 'max_features' parameter of RandomForestClassifier must be an int in the range [1, inf), a float in the range (0.0, 1.0], a str among {'sqrt', 'log2'} or None. Got 'auto' instead.\n",
            "\n",
            "  warnings.warn(some_fits_failed_message, FitFailedWarning)\n",
            "/usr/local/lib/python3.11/dist-packages/sklearn/model_selection/_search.py:1108: UserWarning: One or more of the test scores are non-finite: [0.87270924 0.87331529 0.87331344 ... 0.87087627 0.87270554 0.87270554]\n",
            "  warnings.warn(\n"
          ]
        },
        {
          "output_type": "stream",
          "name": "stdout",
          "text": [
            "Best parameters: {'max_depth': 6, 'max_features': 'sqrt', 'min_samples_leaf': 1, 'min_samples_split': 5, 'n_estimators': 100}\n",
            "Best cross-validation score: 0.8775761731781451\n"
          ]
        }
      ]
    },
    {
      "cell_type": "code",
      "source": [
        "model = Pipeline([\n",
        "    ('model', RandomForestClassifier(random_state=42, n_estimators=50, max_depth=10, min_samples_split=5, min_samples_leaf=1))\n",
        "])\n",
        "model.fit(train_X, train_y)\n",
        "y_pred = model.predict(val_X)\n",
        "accuracy_score(val_y, y_pred)"
      ],
      "metadata": {
        "colab": {
          "base_uri": "https://localhost:8080/"
        },
        "id": "sWA8AFqPqkx-",
        "outputId": "5ec0e345-69de-4e09-b285-d2b2b0178f71"
      },
      "execution_count": 105,
      "outputs": [
        {
          "output_type": "execute_result",
          "data": {
            "text/plain": [
              "0.8576642335766423"
            ]
          },
          "metadata": {},
          "execution_count": 105
        }
      ]
    },
    {
      "cell_type": "code",
      "source": [
        "model = Pipeline([\n",
        "    ('model', RandomForestClassifier(random_state=42, n_estimators=300, max_depth=20, min_samples_split=5, min_samples_leaf=2,\n",
        "                                     ))\n",
        "])\n",
        "model.fit(tren_X, tren_y)\n",
        "y_preds = model.predict(X_val)\n",
        "accuracy_score(y_val, y_preds)"
      ],
      "metadata": {
        "colab": {
          "base_uri": "https://localhost:8080/"
        },
        "id": "wCSxNfr3mavc",
        "outputId": "846c1522-5378-4eeb-91eb-b6d31f51db2a"
      },
      "execution_count": 94,
      "outputs": [
        {
          "output_type": "execute_result",
          "data": {
            "text/plain": [
              "0.8909090909090909"
            ]
          },
          "metadata": {},
          "execution_count": 94
        }
      ]
    },
    {
      "cell_type": "code",
      "source": [
        "model = Pipeline([\n",
        "    ('model', XGBClassifier(random_state=42, eval_metric='mlogloss', n_estimators=280, max_depth=6, learning_rate=0.15))\n",
        "])\n",
        "model.fit(train_X, train_y)\n",
        "xgb_train_preds = model.predict(val_X)\n",
        "accuracy_score(val_y, xgb_train_preds)"
      ],
      "metadata": {
        "colab": {
          "base_uri": "https://localhost:8080/"
        },
        "id": "VTOG4PmPvDpS",
        "outputId": "c2f1fe55-bec2-457a-9618-d814e9d339a1"
      },
      "execution_count": 47,
      "outputs": [
        {
          "output_type": "execute_result",
          "data": {
            "text/plain": [
              "0.8412408759124088"
            ]
          },
          "metadata": {},
          "execution_count": 47
        }
      ]
    },
    {
      "cell_type": "code",
      "source": [
        "modal = Pipeline([\n",
        "    ('model', XGBClassifier(random_state=42, eval_metric='mlogloss', n_estimators=281, max_depth=6, learning_rate=0.15,\n",
        "                            ))\n",
        "])\n",
        "modal.fit(tren_X, tren_y)\n",
        "xgb_tren_preds = modal.predict(X_val)\n",
        "print(\"Accuracy:\", accuracy_score(y_val, xgb_tren_preds))\n",
        "print(\"Precision:\", precision_score(y_val, xgb_tren_preds))\n",
        "print(\"Recall:\", recall_score(y_val, xgb_tren_preds))\n",
        "print(\"F1 Score:\", f1_score(y_val, xgb_tren_preds))\n",
        "print(\"Confusion Matrix:\\n\", confusion_matrix(y_val, xgb_tren_preds))"
      ],
      "metadata": {
        "colab": {
          "base_uri": "https://localhost:8080/"
        },
        "id": "hyKCR4_huOXy",
        "outputId": "c6d7bd42-717f-40bc-82da-f41a3fe4feb7"
      },
      "execution_count": 118,
      "outputs": [
        {
          "output_type": "stream",
          "name": "stdout",
          "text": [
            "Accuracy: 0.9151515151515152\n",
            "Precision: 0.9211822660098522\n",
            "Recall: 0.9077669902912622\n",
            "F1 Score: 0.9144254278728606\n",
            "Confusion Matrix:\n",
            " [[381  32]\n",
            " [ 38 374]]\n"
          ]
        }
      ]
    },
    {
      "cell_type": "code",
      "source": [
        "model = Pipeline([\n",
        "    ('model', XGBClassifier(random_state=42, scale_pos_weight=scale_pos_weight, eval_metric='mlogloss', n_estimators=280,\n",
        "                            max_depth=6, learning_rate=0.1))\n",
        "])\n",
        "model.fit(train_X, train_y)\n",
        "xgb_train_scale_preds = model.predict(val_X)\n",
        "accuracy_score(val_y, xgb_train_scale_preds)"
      ],
      "metadata": {
        "colab": {
          "base_uri": "https://localhost:8080/"
        },
        "id": "VlC5FCm8vI2A",
        "outputId": "09f1ce62-7e60-46f9-8611-61f215a78b55"
      },
      "execution_count": 71,
      "outputs": [
        {
          "output_type": "execute_result",
          "data": {
            "text/plain": [
              "0.8357664233576643"
            ]
          },
          "metadata": {},
          "execution_count": 71
        }
      ]
    },
    {
      "cell_type": "code",
      "source": [
        "model = Pipeline([\n",
        "    ('model', LGBMClassifier(random_state=42, n_estimators=30, max_depth=6, learning_rate=0.1, num_leaves=20, reg_lambda=0.4))\n",
        "])\n",
        "model.fit(train_X, train_y)\n",
        "lgbm_train_preds = model.predict(val_X)\n",
        "accuracy_score(val_y, lgbm_train_preds)"
      ],
      "metadata": {
        "colab": {
          "base_uri": "https://localhost:8080/"
        },
        "id": "GYGTI8lVvCRP",
        "outputId": "eef6406e-1645-493b-f3c2-d6c2320e9c8c"
      },
      "execution_count": 108,
      "outputs": [
        {
          "output_type": "stream",
          "name": "stdout",
          "text": [
            "[LightGBM] [Info] Number of positive: 1251, number of negative: 391\n",
            "[LightGBM] [Info] Auto-choosing col-wise multi-threading, the overhead of testing was 0.000358 seconds.\n",
            "You can set `force_col_wise=true` to remove the overhead.\n",
            "[LightGBM] [Info] Total Bins 1298\n",
            "[LightGBM] [Info] Number of data points in the train set: 1642, number of used features: 10\n",
            "[LightGBM] [Info] [binary:BoostFromScore]: pavg=0.761876 -> initscore=1.162991\n",
            "[LightGBM] [Info] Start training from score 1.162991\n",
            "[LightGBM] [Warning] No further splits with positive gain, best gain: -inf\n"
          ]
        },
        {
          "output_type": "execute_result",
          "data": {
            "text/plain": [
              "0.8667883211678832"
            ]
          },
          "metadata": {},
          "execution_count": 108
        }
      ]
    },
    {
      "cell_type": "code",
      "source": [
        "model = Pipeline([\n",
        "    ('model', LGBMClassifier(random_state=42, n_estimators=30, max_depth=6, learning_rate=0.1, num_leaves=20, reg_lambda=0.4))\n",
        "])\n",
        "model.fit(tren_X, tren_y)\n",
        "lgbm_train_preds = model.predict(X_val)\n",
        "accuracy_score(y_val, lgbm_train_preds)"
      ],
      "metadata": {
        "colab": {
          "base_uri": "https://localhost:8080/"
        },
        "id": "Pnq7sS-1yHi6",
        "outputId": "e805efd1-81d0-4238-93f4-839d0c82cb63"
      },
      "execution_count": 109,
      "outputs": [
        {
          "output_type": "stream",
          "name": "stdout",
          "text": [
            "[LightGBM] [Info] Number of positive: 1238, number of negative: 1237\n",
            "[LightGBM] [Info] Auto-choosing row-wise multi-threading, the overhead of testing was 0.000287 seconds.\n",
            "You can set `force_row_wise=true` to remove the overhead.\n",
            "And if memory is not enough, you can set `force_col_wise=true`.\n",
            "[LightGBM] [Info] Total Bins 2507\n",
            "[LightGBM] [Info] Number of data points in the train set: 2475, number of used features: 10\n",
            "[LightGBM] [Info] [binary:BoostFromScore]: pavg=0.500202 -> initscore=0.000808\n",
            "[LightGBM] [Info] Start training from score 0.000808\n",
            "[LightGBM] [Warning] No further splits with positive gain, best gain: -inf\n"
          ]
        },
        {
          "output_type": "execute_result",
          "data": {
            "text/plain": [
              "0.8727272727272727"
            ]
          },
          "metadata": {},
          "execution_count": 109
        }
      ]
    },
    {
      "cell_type": "code",
      "source": [
        "test_X = pd.read_csv('test.csv', index_col='id')\n",
        "test_X.drop(columns='day', inplace=True)\n",
        "test_preds = modal.predict(test_X)"
      ],
      "metadata": {
        "id": "XkNs1Tfe62f6"
      },
      "execution_count": 119,
      "outputs": []
    }
  ]
}